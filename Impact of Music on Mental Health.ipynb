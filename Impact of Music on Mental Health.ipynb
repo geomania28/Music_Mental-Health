{
 "cells": [
  {
   "cell_type": "code",
   "execution_count": 1,
   "id": "b3500496-b29a-475b-8260-11e8258ead59",
   "metadata": {},
   "outputs": [],
   "source": [
    "import numpy as np # linear algebra\n",
    "import pandas as pd # data processing, CSV file I/O (e.g. pd.read_csv)\n",
    "\n",
    "\n",
    "import os\n",
    "for dirname, _, filenames in os.walk('/kaggle/input'):\n",
    "    for filename in filenames:\n",
    "        print(os.path.join(dirname, filename))\n",
    "        %matplotlib inline \n",
    "\n",
    "import matplotlib\n",
    "import matplotlib.pyplot as plt \n",
    "import seaborn as sns\n",
    "import warnings\n",
    "warnings.filterwarnings('ignore')"
   ]
  },
  {
   "cell_type": "markdown",
   "id": "71b5dc6c-7572-40ae-bc8d-e283385dc152",
   "metadata": {},
   "source": [
    "Reading the CSV and removing unwanted columns¶"
   ]
  },
  {
   "cell_type": "code",
   "execution_count": 4,
   "id": "203cfdf9-3f72-487e-82c0-7cb4c086c373",
   "metadata": {},
   "outputs": [],
   "source": [
    "df=pd.read_csv('mxmh_survey_results.csv')"
   ]
  },
  {
   "cell_type": "markdown",
   "id": "bae2695f-1f1a-4d87-8407-012faf27aa46",
   "metadata": {},
   "source": [
    "Timestamp,Permissions column is not useful hence dropping it"
   ]
  },
  {
   "cell_type": "code",
   "execution_count": 7,
   "id": "e7d4abfb-f4e8-4ff0-8089-f5cb8fb966a6",
   "metadata": {},
   "outputs": [
    {
     "data": {
      "text/html": [
       "<div>\n",
       "<style scoped>\n",
       "    .dataframe tbody tr th:only-of-type {\n",
       "        vertical-align: middle;\n",
       "    }\n",
       "\n",
       "    .dataframe tbody tr th {\n",
       "        vertical-align: top;\n",
       "    }\n",
       "\n",
       "    .dataframe thead th {\n",
       "        text-align: right;\n",
       "    }\n",
       "</style>\n",
       "<table border=\"1\" class=\"dataframe\">\n",
       "  <thead>\n",
       "    <tr style=\"text-align: right;\">\n",
       "      <th></th>\n",
       "      <th>Age</th>\n",
       "      <th>Primary streaming service</th>\n",
       "      <th>Hours per day</th>\n",
       "      <th>While working</th>\n",
       "      <th>Instrumentalist</th>\n",
       "      <th>Composer</th>\n",
       "      <th>Fav genre</th>\n",
       "      <th>Exploratory</th>\n",
       "      <th>Foreign languages</th>\n",
       "      <th>BPM</th>\n",
       "      <th>...</th>\n",
       "      <th>Frequency [Pop]</th>\n",
       "      <th>Frequency [R&amp;B]</th>\n",
       "      <th>Frequency [Rap]</th>\n",
       "      <th>Frequency [Rock]</th>\n",
       "      <th>Frequency [Video game music]</th>\n",
       "      <th>Anxiety</th>\n",
       "      <th>Depression</th>\n",
       "      <th>Insomnia</th>\n",
       "      <th>OCD</th>\n",
       "      <th>Music effects</th>\n",
       "    </tr>\n",
       "  </thead>\n",
       "  <tbody>\n",
       "    <tr>\n",
       "      <th>0</th>\n",
       "      <td>18.0</td>\n",
       "      <td>Spotify</td>\n",
       "      <td>3.0</td>\n",
       "      <td>Yes</td>\n",
       "      <td>Yes</td>\n",
       "      <td>Yes</td>\n",
       "      <td>Latin</td>\n",
       "      <td>Yes</td>\n",
       "      <td>Yes</td>\n",
       "      <td>156.0</td>\n",
       "      <td>...</td>\n",
       "      <td>Very frequently</td>\n",
       "      <td>Sometimes</td>\n",
       "      <td>Very frequently</td>\n",
       "      <td>Never</td>\n",
       "      <td>Sometimes</td>\n",
       "      <td>3.0</td>\n",
       "      <td>0.0</td>\n",
       "      <td>1.0</td>\n",
       "      <td>0.0</td>\n",
       "      <td>NaN</td>\n",
       "    </tr>\n",
       "    <tr>\n",
       "      <th>1</th>\n",
       "      <td>63.0</td>\n",
       "      <td>Pandora</td>\n",
       "      <td>1.5</td>\n",
       "      <td>Yes</td>\n",
       "      <td>No</td>\n",
       "      <td>No</td>\n",
       "      <td>Rock</td>\n",
       "      <td>Yes</td>\n",
       "      <td>No</td>\n",
       "      <td>119.0</td>\n",
       "      <td>...</td>\n",
       "      <td>Sometimes</td>\n",
       "      <td>Sometimes</td>\n",
       "      <td>Rarely</td>\n",
       "      <td>Very frequently</td>\n",
       "      <td>Rarely</td>\n",
       "      <td>7.0</td>\n",
       "      <td>2.0</td>\n",
       "      <td>2.0</td>\n",
       "      <td>1.0</td>\n",
       "      <td>NaN</td>\n",
       "    </tr>\n",
       "    <tr>\n",
       "      <th>2</th>\n",
       "      <td>18.0</td>\n",
       "      <td>Spotify</td>\n",
       "      <td>4.0</td>\n",
       "      <td>No</td>\n",
       "      <td>No</td>\n",
       "      <td>No</td>\n",
       "      <td>Video game music</td>\n",
       "      <td>No</td>\n",
       "      <td>Yes</td>\n",
       "      <td>132.0</td>\n",
       "      <td>...</td>\n",
       "      <td>Rarely</td>\n",
       "      <td>Never</td>\n",
       "      <td>Rarely</td>\n",
       "      <td>Rarely</td>\n",
       "      <td>Very frequently</td>\n",
       "      <td>7.0</td>\n",
       "      <td>7.0</td>\n",
       "      <td>10.0</td>\n",
       "      <td>2.0</td>\n",
       "      <td>No effect</td>\n",
       "    </tr>\n",
       "    <tr>\n",
       "      <th>3</th>\n",
       "      <td>61.0</td>\n",
       "      <td>YouTube Music</td>\n",
       "      <td>2.5</td>\n",
       "      <td>Yes</td>\n",
       "      <td>No</td>\n",
       "      <td>Yes</td>\n",
       "      <td>Jazz</td>\n",
       "      <td>Yes</td>\n",
       "      <td>Yes</td>\n",
       "      <td>84.0</td>\n",
       "      <td>...</td>\n",
       "      <td>Sometimes</td>\n",
       "      <td>Sometimes</td>\n",
       "      <td>Never</td>\n",
       "      <td>Never</td>\n",
       "      <td>Never</td>\n",
       "      <td>9.0</td>\n",
       "      <td>7.0</td>\n",
       "      <td>3.0</td>\n",
       "      <td>3.0</td>\n",
       "      <td>Improve</td>\n",
       "    </tr>\n",
       "    <tr>\n",
       "      <th>4</th>\n",
       "      <td>18.0</td>\n",
       "      <td>Spotify</td>\n",
       "      <td>4.0</td>\n",
       "      <td>Yes</td>\n",
       "      <td>No</td>\n",
       "      <td>No</td>\n",
       "      <td>R&amp;B</td>\n",
       "      <td>Yes</td>\n",
       "      <td>No</td>\n",
       "      <td>107.0</td>\n",
       "      <td>...</td>\n",
       "      <td>Sometimes</td>\n",
       "      <td>Very frequently</td>\n",
       "      <td>Very frequently</td>\n",
       "      <td>Never</td>\n",
       "      <td>Rarely</td>\n",
       "      <td>7.0</td>\n",
       "      <td>2.0</td>\n",
       "      <td>5.0</td>\n",
       "      <td>9.0</td>\n",
       "      <td>Improve</td>\n",
       "    </tr>\n",
       "  </tbody>\n",
       "</table>\n",
       "<p>5 rows × 31 columns</p>\n",
       "</div>"
      ],
      "text/plain": [
       "    Age Primary streaming service  Hours per day While working  \\\n",
       "0  18.0                   Spotify            3.0           Yes   \n",
       "1  63.0                   Pandora            1.5           Yes   \n",
       "2  18.0                   Spotify            4.0            No   \n",
       "3  61.0             YouTube Music            2.5           Yes   \n",
       "4  18.0                   Spotify            4.0           Yes   \n",
       "\n",
       "  Instrumentalist Composer         Fav genre Exploratory Foreign languages  \\\n",
       "0             Yes      Yes             Latin         Yes               Yes   \n",
       "1              No       No              Rock         Yes                No   \n",
       "2              No       No  Video game music          No               Yes   \n",
       "3              No      Yes              Jazz         Yes               Yes   \n",
       "4              No       No               R&B         Yes                No   \n",
       "\n",
       "     BPM  ...  Frequency [Pop]  Frequency [R&B]  Frequency [Rap]  \\\n",
       "0  156.0  ...  Very frequently        Sometimes  Very frequently   \n",
       "1  119.0  ...        Sometimes        Sometimes           Rarely   \n",
       "2  132.0  ...           Rarely            Never           Rarely   \n",
       "3   84.0  ...        Sometimes        Sometimes            Never   \n",
       "4  107.0  ...        Sometimes  Very frequently  Very frequently   \n",
       "\n",
       "  Frequency [Rock] Frequency [Video game music] Anxiety Depression Insomnia  \\\n",
       "0            Never                    Sometimes     3.0        0.0      1.0   \n",
       "1  Very frequently                       Rarely     7.0        2.0      2.0   \n",
       "2           Rarely              Very frequently     7.0        7.0     10.0   \n",
       "3            Never                        Never     9.0        7.0      3.0   \n",
       "4            Never                       Rarely     7.0        2.0      5.0   \n",
       "\n",
       "   OCD Music effects  \n",
       "0  0.0           NaN  \n",
       "1  1.0           NaN  \n",
       "2  2.0     No effect  \n",
       "3  3.0       Improve  \n",
       "4  9.0       Improve  \n",
       "\n",
       "[5 rows x 31 columns]"
      ]
     },
     "execution_count": 7,
     "metadata": {},
     "output_type": "execute_result"
    }
   ],
   "source": [
    "df.drop(['Timestamp','Permissions'],axis=1,inplace=True)\n",
    "df.head()"
   ]
  },
  {
   "cell_type": "markdown",
   "id": "92a85497-3c1a-4750-8be3-c0b877738af8",
   "metadata": {},
   "source": [
    "Understanding the dimension of dataset"
   ]
  },
  {
   "cell_type": "code",
   "execution_count": 10,
   "id": "9abe4b46-a911-4d0a-b44b-e2f4998cfeb0",
   "metadata": {},
   "outputs": [
    {
     "data": {
      "text/plain": [
       "(736, 31)"
      ]
     },
     "execution_count": 10,
     "metadata": {},
     "output_type": "execute_result"
    }
   ],
   "source": [
    "df.shape"
   ]
  },
  {
   "cell_type": "markdown",
   "id": "21d6a523-e504-4339-b323-ec0970ede465",
   "metadata": {},
   "source": [
    "Understanding the datatypes"
   ]
  },
  {
   "cell_type": "code",
   "execution_count": 13,
   "id": "8cb37aae-4358-4ace-9b4e-f1f5d0e879fc",
   "metadata": {},
   "outputs": [
    {
     "name": "stdout",
     "output_type": "stream",
     "text": [
      "<class 'pandas.core.frame.DataFrame'>\n",
      "RangeIndex: 736 entries, 0 to 735\n",
      "Data columns (total 31 columns):\n",
      " #   Column                        Non-Null Count  Dtype  \n",
      "---  ------                        --------------  -----  \n",
      " 0   Age                           735 non-null    float64\n",
      " 1   Primary streaming service     735 non-null    object \n",
      " 2   Hours per day                 736 non-null    float64\n",
      " 3   While working                 733 non-null    object \n",
      " 4   Instrumentalist               732 non-null    object \n",
      " 5   Composer                      735 non-null    object \n",
      " 6   Fav genre                     736 non-null    object \n",
      " 7   Exploratory                   736 non-null    object \n",
      " 8   Foreign languages             732 non-null    object \n",
      " 9   BPM                           629 non-null    float64\n",
      " 10  Frequency [Classical]         736 non-null    object \n",
      " 11  Frequency [Country]           736 non-null    object \n",
      " 12  Frequency [EDM]               736 non-null    object \n",
      " 13  Frequency [Folk]              736 non-null    object \n",
      " 14  Frequency [Gospel]            736 non-null    object \n",
      " 15  Frequency [Hip hop]           736 non-null    object \n",
      " 16  Frequency [Jazz]              736 non-null    object \n",
      " 17  Frequency [K pop]             736 non-null    object \n",
      " 18  Frequency [Latin]             736 non-null    object \n",
      " 19  Frequency [Lofi]              736 non-null    object \n",
      " 20  Frequency [Metal]             736 non-null    object \n",
      " 21  Frequency [Pop]               736 non-null    object \n",
      " 22  Frequency [R&B]               736 non-null    object \n",
      " 23  Frequency [Rap]               736 non-null    object \n",
      " 24  Frequency [Rock]              736 non-null    object \n",
      " 25  Frequency [Video game music]  736 non-null    object \n",
      " 26  Anxiety                       736 non-null    float64\n",
      " 27  Depression                    736 non-null    float64\n",
      " 28  Insomnia                      736 non-null    float64\n",
      " 29  OCD                           736 non-null    float64\n",
      " 30  Music effects                 728 non-null    object \n",
      "dtypes: float64(7), object(24)\n",
      "memory usage: 178.4+ KB\n"
     ]
    }
   ],
   "source": [
    "df.info()"
   ]
  },
  {
   "cell_type": "markdown",
   "id": "cdb46daf-e4aa-436e-9b69-343c950ff2eb",
   "metadata": {},
   "source": [
    "5 number summary of the dataset"
   ]
  },
  {
   "cell_type": "code",
   "execution_count": 16,
   "id": "bfe94008-bc41-4d7d-b8a1-c4d4bcf4d9d3",
   "metadata": {},
   "outputs": [
    {
     "data": {
      "text/html": [
       "<div>\n",
       "<style scoped>\n",
       "    .dataframe tbody tr th:only-of-type {\n",
       "        vertical-align: middle;\n",
       "    }\n",
       "\n",
       "    .dataframe tbody tr th {\n",
       "        vertical-align: top;\n",
       "    }\n",
       "\n",
       "    .dataframe thead th {\n",
       "        text-align: right;\n",
       "    }\n",
       "</style>\n",
       "<table border=\"1\" class=\"dataframe\">\n",
       "  <thead>\n",
       "    <tr style=\"text-align: right;\">\n",
       "      <th></th>\n",
       "      <th>count</th>\n",
       "      <th>mean</th>\n",
       "      <th>std</th>\n",
       "      <th>min</th>\n",
       "      <th>25%</th>\n",
       "      <th>50%</th>\n",
       "      <th>75%</th>\n",
       "      <th>max</th>\n",
       "    </tr>\n",
       "  </thead>\n",
       "  <tbody>\n",
       "    <tr>\n",
       "      <th>Age</th>\n",
       "      <td>735.0</td>\n",
       "      <td>2.520680e+01</td>\n",
       "      <td>1.205497e+01</td>\n",
       "      <td>10.0</td>\n",
       "      <td>18.0</td>\n",
       "      <td>21.0</td>\n",
       "      <td>28.0</td>\n",
       "      <td>89.0</td>\n",
       "    </tr>\n",
       "    <tr>\n",
       "      <th>Hours per day</th>\n",
       "      <td>736.0</td>\n",
       "      <td>3.572758e+00</td>\n",
       "      <td>3.028199e+00</td>\n",
       "      <td>0.0</td>\n",
       "      <td>2.0</td>\n",
       "      <td>3.0</td>\n",
       "      <td>5.0</td>\n",
       "      <td>24.0</td>\n",
       "    </tr>\n",
       "    <tr>\n",
       "      <th>BPM</th>\n",
       "      <td>629.0</td>\n",
       "      <td>1.589948e+06</td>\n",
       "      <td>3.987261e+07</td>\n",
       "      <td>0.0</td>\n",
       "      <td>100.0</td>\n",
       "      <td>120.0</td>\n",
       "      <td>144.0</td>\n",
       "      <td>999999999.0</td>\n",
       "    </tr>\n",
       "    <tr>\n",
       "      <th>Anxiety</th>\n",
       "      <td>736.0</td>\n",
       "      <td>5.837636e+00</td>\n",
       "      <td>2.793054e+00</td>\n",
       "      <td>0.0</td>\n",
       "      <td>4.0</td>\n",
       "      <td>6.0</td>\n",
       "      <td>8.0</td>\n",
       "      <td>10.0</td>\n",
       "    </tr>\n",
       "    <tr>\n",
       "      <th>Depression</th>\n",
       "      <td>736.0</td>\n",
       "      <td>4.796196e+00</td>\n",
       "      <td>3.028870e+00</td>\n",
       "      <td>0.0</td>\n",
       "      <td>2.0</td>\n",
       "      <td>5.0</td>\n",
       "      <td>7.0</td>\n",
       "      <td>10.0</td>\n",
       "    </tr>\n",
       "    <tr>\n",
       "      <th>Insomnia</th>\n",
       "      <td>736.0</td>\n",
       "      <td>3.738451e+00</td>\n",
       "      <td>3.088689e+00</td>\n",
       "      <td>0.0</td>\n",
       "      <td>1.0</td>\n",
       "      <td>3.0</td>\n",
       "      <td>6.0</td>\n",
       "      <td>10.0</td>\n",
       "    </tr>\n",
       "    <tr>\n",
       "      <th>OCD</th>\n",
       "      <td>736.0</td>\n",
       "      <td>2.637228e+00</td>\n",
       "      <td>2.842017e+00</td>\n",
       "      <td>0.0</td>\n",
       "      <td>0.0</td>\n",
       "      <td>2.0</td>\n",
       "      <td>5.0</td>\n",
       "      <td>10.0</td>\n",
       "    </tr>\n",
       "  </tbody>\n",
       "</table>\n",
       "</div>"
      ],
      "text/plain": [
       "               count          mean           std   min    25%    50%    75%  \\\n",
       "Age            735.0  2.520680e+01  1.205497e+01  10.0   18.0   21.0   28.0   \n",
       "Hours per day  736.0  3.572758e+00  3.028199e+00   0.0    2.0    3.0    5.0   \n",
       "BPM            629.0  1.589948e+06  3.987261e+07   0.0  100.0  120.0  144.0   \n",
       "Anxiety        736.0  5.837636e+00  2.793054e+00   0.0    4.0    6.0    8.0   \n",
       "Depression     736.0  4.796196e+00  3.028870e+00   0.0    2.0    5.0    7.0   \n",
       "Insomnia       736.0  3.738451e+00  3.088689e+00   0.0    1.0    3.0    6.0   \n",
       "OCD            736.0  2.637228e+00  2.842017e+00   0.0    0.0    2.0    5.0   \n",
       "\n",
       "                       max  \n",
       "Age                   89.0  \n",
       "Hours per day         24.0  \n",
       "BPM            999999999.0  \n",
       "Anxiety               10.0  \n",
       "Depression            10.0  \n",
       "Insomnia              10.0  \n",
       "OCD                   10.0  "
      ]
     },
     "execution_count": 16,
     "metadata": {},
     "output_type": "execute_result"
    }
   ],
   "source": [
    "df.describe().T"
   ]
  },
  {
   "cell_type": "code",
   "execution_count": 18,
   "id": "e808cd63-d429-472a-892f-b867a37909c8",
   "metadata": {},
   "outputs": [
    {
     "data": {
      "text/html": [
       "<div>\n",
       "<style scoped>\n",
       "    .dataframe tbody tr th:only-of-type {\n",
       "        vertical-align: middle;\n",
       "    }\n",
       "\n",
       "    .dataframe tbody tr th {\n",
       "        vertical-align: top;\n",
       "    }\n",
       "\n",
       "    .dataframe thead th {\n",
       "        text-align: right;\n",
       "    }\n",
       "</style>\n",
       "<table border=\"1\" class=\"dataframe\">\n",
       "  <thead>\n",
       "    <tr style=\"text-align: right;\">\n",
       "      <th></th>\n",
       "      <th>count</th>\n",
       "      <th>unique</th>\n",
       "      <th>top</th>\n",
       "      <th>freq</th>\n",
       "    </tr>\n",
       "  </thead>\n",
       "  <tbody>\n",
       "    <tr>\n",
       "      <th>Primary streaming service</th>\n",
       "      <td>735</td>\n",
       "      <td>6</td>\n",
       "      <td>Spotify</td>\n",
       "      <td>458</td>\n",
       "    </tr>\n",
       "    <tr>\n",
       "      <th>While working</th>\n",
       "      <td>733</td>\n",
       "      <td>2</td>\n",
       "      <td>Yes</td>\n",
       "      <td>579</td>\n",
       "    </tr>\n",
       "    <tr>\n",
       "      <th>Instrumentalist</th>\n",
       "      <td>732</td>\n",
       "      <td>2</td>\n",
       "      <td>No</td>\n",
       "      <td>497</td>\n",
       "    </tr>\n",
       "    <tr>\n",
       "      <th>Composer</th>\n",
       "      <td>735</td>\n",
       "      <td>2</td>\n",
       "      <td>No</td>\n",
       "      <td>609</td>\n",
       "    </tr>\n",
       "    <tr>\n",
       "      <th>Fav genre</th>\n",
       "      <td>736</td>\n",
       "      <td>16</td>\n",
       "      <td>Rock</td>\n",
       "      <td>188</td>\n",
       "    </tr>\n",
       "    <tr>\n",
       "      <th>Exploratory</th>\n",
       "      <td>736</td>\n",
       "      <td>2</td>\n",
       "      <td>Yes</td>\n",
       "      <td>525</td>\n",
       "    </tr>\n",
       "    <tr>\n",
       "      <th>Foreign languages</th>\n",
       "      <td>732</td>\n",
       "      <td>2</td>\n",
       "      <td>Yes</td>\n",
       "      <td>404</td>\n",
       "    </tr>\n",
       "    <tr>\n",
       "      <th>Frequency [Classical]</th>\n",
       "      <td>736</td>\n",
       "      <td>4</td>\n",
       "      <td>Rarely</td>\n",
       "      <td>259</td>\n",
       "    </tr>\n",
       "    <tr>\n",
       "      <th>Frequency [Country]</th>\n",
       "      <td>736</td>\n",
       "      <td>4</td>\n",
       "      <td>Never</td>\n",
       "      <td>343</td>\n",
       "    </tr>\n",
       "    <tr>\n",
       "      <th>Frequency [EDM]</th>\n",
       "      <td>736</td>\n",
       "      <td>4</td>\n",
       "      <td>Never</td>\n",
       "      <td>307</td>\n",
       "    </tr>\n",
       "    <tr>\n",
       "      <th>Frequency [Folk]</th>\n",
       "      <td>736</td>\n",
       "      <td>4</td>\n",
       "      <td>Never</td>\n",
       "      <td>292</td>\n",
       "    </tr>\n",
       "    <tr>\n",
       "      <th>Frequency [Gospel]</th>\n",
       "      <td>736</td>\n",
       "      <td>4</td>\n",
       "      <td>Never</td>\n",
       "      <td>535</td>\n",
       "    </tr>\n",
       "    <tr>\n",
       "      <th>Frequency [Hip hop]</th>\n",
       "      <td>736</td>\n",
       "      <td>4</td>\n",
       "      <td>Sometimes</td>\n",
       "      <td>218</td>\n",
       "    </tr>\n",
       "    <tr>\n",
       "      <th>Frequency [Jazz]</th>\n",
       "      <td>736</td>\n",
       "      <td>4</td>\n",
       "      <td>Never</td>\n",
       "      <td>261</td>\n",
       "    </tr>\n",
       "    <tr>\n",
       "      <th>Frequency [K pop]</th>\n",
       "      <td>736</td>\n",
       "      <td>4</td>\n",
       "      <td>Never</td>\n",
       "      <td>416</td>\n",
       "    </tr>\n",
       "    <tr>\n",
       "      <th>Frequency [Latin]</th>\n",
       "      <td>736</td>\n",
       "      <td>4</td>\n",
       "      <td>Never</td>\n",
       "      <td>443</td>\n",
       "    </tr>\n",
       "    <tr>\n",
       "      <th>Frequency [Lofi]</th>\n",
       "      <td>736</td>\n",
       "      <td>4</td>\n",
       "      <td>Never</td>\n",
       "      <td>280</td>\n",
       "    </tr>\n",
       "    <tr>\n",
       "      <th>Frequency [Metal]</th>\n",
       "      <td>736</td>\n",
       "      <td>4</td>\n",
       "      <td>Never</td>\n",
       "      <td>264</td>\n",
       "    </tr>\n",
       "    <tr>\n",
       "      <th>Frequency [Pop]</th>\n",
       "      <td>736</td>\n",
       "      <td>4</td>\n",
       "      <td>Very frequently</td>\n",
       "      <td>277</td>\n",
       "    </tr>\n",
       "    <tr>\n",
       "      <th>Frequency [R&amp;B]</th>\n",
       "      <td>736</td>\n",
       "      <td>4</td>\n",
       "      <td>Never</td>\n",
       "      <td>225</td>\n",
       "    </tr>\n",
       "    <tr>\n",
       "      <th>Frequency [Rap]</th>\n",
       "      <td>736</td>\n",
       "      <td>4</td>\n",
       "      <td>Rarely</td>\n",
       "      <td>215</td>\n",
       "    </tr>\n",
       "    <tr>\n",
       "      <th>Frequency [Rock]</th>\n",
       "      <td>736</td>\n",
       "      <td>4</td>\n",
       "      <td>Very frequently</td>\n",
       "      <td>330</td>\n",
       "    </tr>\n",
       "    <tr>\n",
       "      <th>Frequency [Video game music]</th>\n",
       "      <td>736</td>\n",
       "      <td>4</td>\n",
       "      <td>Never</td>\n",
       "      <td>236</td>\n",
       "    </tr>\n",
       "    <tr>\n",
       "      <th>Music effects</th>\n",
       "      <td>728</td>\n",
       "      <td>3</td>\n",
       "      <td>Improve</td>\n",
       "      <td>542</td>\n",
       "    </tr>\n",
       "  </tbody>\n",
       "</table>\n",
       "</div>"
      ],
      "text/plain": [
       "                             count unique              top freq\n",
       "Primary streaming service      735      6          Spotify  458\n",
       "While working                  733      2              Yes  579\n",
       "Instrumentalist                732      2               No  497\n",
       "Composer                       735      2               No  609\n",
       "Fav genre                      736     16             Rock  188\n",
       "Exploratory                    736      2              Yes  525\n",
       "Foreign languages              732      2              Yes  404\n",
       "Frequency [Classical]          736      4           Rarely  259\n",
       "Frequency [Country]            736      4            Never  343\n",
       "Frequency [EDM]                736      4            Never  307\n",
       "Frequency [Folk]               736      4            Never  292\n",
       "Frequency [Gospel]             736      4            Never  535\n",
       "Frequency [Hip hop]            736      4        Sometimes  218\n",
       "Frequency [Jazz]               736      4            Never  261\n",
       "Frequency [K pop]              736      4            Never  416\n",
       "Frequency [Latin]              736      4            Never  443\n",
       "Frequency [Lofi]               736      4            Never  280\n",
       "Frequency [Metal]              736      4            Never  264\n",
       "Frequency [Pop]                736      4  Very frequently  277\n",
       "Frequency [R&B]                736      4            Never  225\n",
       "Frequency [Rap]                736      4           Rarely  215\n",
       "Frequency [Rock]               736      4  Very frequently  330\n",
       "Frequency [Video game music]   736      4            Never  236\n",
       "Music effects                  728      3          Improve  542"
      ]
     },
     "execution_count": 18,
     "metadata": {},
     "output_type": "execute_result"
    }
   ],
   "source": [
    "df.describe(exclude='number').T"
   ]
  },
  {
   "cell_type": "markdown",
   "id": "c998c47a-643d-4600-b45b-2d9fbcff1524",
   "metadata": {},
   "source": [
    "Finding the Null values and handling them"
   ]
  },
  {
   "cell_type": "code",
   "execution_count": 21,
   "id": "dcc2af70-3da3-4cb5-9b81-d93d14e94e70",
   "metadata": {},
   "outputs": [
    {
     "data": {
      "text/plain": [
       "Age                            1\n",
       "Primary streaming service      1\n",
       "While working                  3\n",
       "Instrumentalist                4\n",
       "Composer                       1\n",
       "Foreign languages              4\n",
       "BPM                          107\n",
       "Music effects                  8\n",
       "dtype: int64"
      ]
     },
     "execution_count": 21,
     "metadata": {},
     "output_type": "execute_result"
    }
   ],
   "source": [
    "df[df.columns[df.isnull().any()]].isnull().sum()"
   ]
  },
  {
   "cell_type": "markdown",
   "id": "e334368e-67f8-481e-a9c9-6d634dbf925d",
   "metadata": {},
   "source": [
    "Deleting entries where null values is less than 10"
   ]
  },
  {
   "cell_type": "code",
   "execution_count": 64,
   "id": "6fd3cb64-7d84-46d0-929e-5bb451114512",
   "metadata": {},
   "outputs": [],
   "source": [
    "df.dropna(subset=['Age','Primary streaming service','While working','Instrumentalist','Composer','Foreign languages','Music effects'],inplace=True)"
   ]
  },
  {
   "cell_type": "markdown",
   "id": "581b427b-a471-4584-9558-a5198bc44162",
   "metadata": {},
   "source": [
    "Since BPM has many null values we will replace it with the median value"
   ]
  },
  {
   "cell_type": "code",
   "execution_count": 40,
   "id": "db10be6f-3c8c-45a9-ac79-ca797c69615d",
   "metadata": {},
   "outputs": [
    {
     "data": {
      "text/plain": [
       "Age                            1\n",
       "Primary streaming service      1\n",
       "While working                  3\n",
       "Instrumentalist                4\n",
       "Composer                       1\n",
       "Foreign languages              4\n",
       "BPM                          107\n",
       "Music effects                  8\n",
       "dtype: int64"
      ]
     },
     "execution_count": 40,
     "metadata": {},
     "output_type": "execute_result"
    }
   ],
   "source": [
    "df[df.columns[df.isnull().any()]].isnull().sum()"
   ]
  },
  {
   "cell_type": "code",
   "execution_count": 42,
   "id": "b4184c80-e0ea-47ce-bc03-24f983e529f8",
   "metadata": {},
   "outputs": [],
   "source": [
    "df['BPM']=df['BPM'].fillna(df['BPM'].median())"
   ]
  },
  {
   "cell_type": "code",
   "execution_count": 44,
   "id": "ff74d53a-edb7-4a7b-a0d6-59a63172fa1f",
   "metadata": {},
   "outputs": [
    {
     "data": {
      "text/html": [
       "<div>\n",
       "<style scoped>\n",
       "    .dataframe tbody tr th:only-of-type {\n",
       "        vertical-align: middle;\n",
       "    }\n",
       "\n",
       "    .dataframe tbody tr th {\n",
       "        vertical-align: top;\n",
       "    }\n",
       "\n",
       "    .dataframe thead th {\n",
       "        text-align: right;\n",
       "    }\n",
       "</style>\n",
       "<table border=\"1\" class=\"dataframe\">\n",
       "  <thead>\n",
       "    <tr style=\"text-align: right;\">\n",
       "      <th></th>\n",
       "      <th>count</th>\n",
       "      <th>mean</th>\n",
       "      <th>std</th>\n",
       "      <th>min</th>\n",
       "      <th>25%</th>\n",
       "      <th>50%</th>\n",
       "      <th>75%</th>\n",
       "      <th>max</th>\n",
       "    </tr>\n",
       "  </thead>\n",
       "  <tbody>\n",
       "    <tr>\n",
       "      <th>Age</th>\n",
       "      <td>735.0</td>\n",
       "      <td>2.520680e+01</td>\n",
       "      <td>1.205497e+01</td>\n",
       "      <td>10.0</td>\n",
       "      <td>18.0</td>\n",
       "      <td>21.0</td>\n",
       "      <td>28.0</td>\n",
       "      <td>89.0</td>\n",
       "    </tr>\n",
       "    <tr>\n",
       "      <th>Hours per day</th>\n",
       "      <td>736.0</td>\n",
       "      <td>3.572758e+00</td>\n",
       "      <td>3.028199e+00</td>\n",
       "      <td>0.0</td>\n",
       "      <td>2.0</td>\n",
       "      <td>3.0</td>\n",
       "      <td>5.0</td>\n",
       "      <td>24.0</td>\n",
       "    </tr>\n",
       "    <tr>\n",
       "      <th>BPM</th>\n",
       "      <td>736.0</td>\n",
       "      <td>1.358818e+06</td>\n",
       "      <td>3.686048e+07</td>\n",
       "      <td>0.0</td>\n",
       "      <td>105.0</td>\n",
       "      <td>120.0</td>\n",
       "      <td>140.0</td>\n",
       "      <td>999999999.0</td>\n",
       "    </tr>\n",
       "    <tr>\n",
       "      <th>Anxiety</th>\n",
       "      <td>736.0</td>\n",
       "      <td>5.837636e+00</td>\n",
       "      <td>2.793054e+00</td>\n",
       "      <td>0.0</td>\n",
       "      <td>4.0</td>\n",
       "      <td>6.0</td>\n",
       "      <td>8.0</td>\n",
       "      <td>10.0</td>\n",
       "    </tr>\n",
       "    <tr>\n",
       "      <th>Depression</th>\n",
       "      <td>736.0</td>\n",
       "      <td>4.796196e+00</td>\n",
       "      <td>3.028870e+00</td>\n",
       "      <td>0.0</td>\n",
       "      <td>2.0</td>\n",
       "      <td>5.0</td>\n",
       "      <td>7.0</td>\n",
       "      <td>10.0</td>\n",
       "    </tr>\n",
       "    <tr>\n",
       "      <th>Insomnia</th>\n",
       "      <td>736.0</td>\n",
       "      <td>3.738451e+00</td>\n",
       "      <td>3.088689e+00</td>\n",
       "      <td>0.0</td>\n",
       "      <td>1.0</td>\n",
       "      <td>3.0</td>\n",
       "      <td>6.0</td>\n",
       "      <td>10.0</td>\n",
       "    </tr>\n",
       "    <tr>\n",
       "      <th>OCD</th>\n",
       "      <td>736.0</td>\n",
       "      <td>2.637228e+00</td>\n",
       "      <td>2.842017e+00</td>\n",
       "      <td>0.0</td>\n",
       "      <td>0.0</td>\n",
       "      <td>2.0</td>\n",
       "      <td>5.0</td>\n",
       "      <td>10.0</td>\n",
       "    </tr>\n",
       "  </tbody>\n",
       "</table>\n",
       "</div>"
      ],
      "text/plain": [
       "               count          mean           std   min    25%    50%    75%  \\\n",
       "Age            735.0  2.520680e+01  1.205497e+01  10.0   18.0   21.0   28.0   \n",
       "Hours per day  736.0  3.572758e+00  3.028199e+00   0.0    2.0    3.0    5.0   \n",
       "BPM            736.0  1.358818e+06  3.686048e+07   0.0  105.0  120.0  140.0   \n",
       "Anxiety        736.0  5.837636e+00  2.793054e+00   0.0    4.0    6.0    8.0   \n",
       "Depression     736.0  4.796196e+00  3.028870e+00   0.0    2.0    5.0    7.0   \n",
       "Insomnia       736.0  3.738451e+00  3.088689e+00   0.0    1.0    3.0    6.0   \n",
       "OCD            736.0  2.637228e+00  2.842017e+00   0.0    0.0    2.0    5.0   \n",
       "\n",
       "                       max  \n",
       "Age                   89.0  \n",
       "Hours per day         24.0  \n",
       "BPM            999999999.0  \n",
       "Anxiety               10.0  \n",
       "Depression            10.0  \n",
       "Insomnia              10.0  \n",
       "OCD                   10.0  "
      ]
     },
     "execution_count": 44,
     "metadata": {},
     "output_type": "execute_result"
    }
   ],
   "source": [
    "df.describe().T"
   ]
  },
  {
   "cell_type": "markdown",
   "id": "d64d2e5c-1af7-4a72-a939-aeaf98fd69bb",
   "metadata": {},
   "source": [
    "Outlier Detection and Handling¶\n",
    "Outliers in Age, Hours per day, BPM needs to be corrected"
   ]
  },
  {
   "cell_type": "code",
   "execution_count": 47,
   "id": "85a08d63-d1e6-44ac-8c96-4e561bc9431d",
   "metadata": {},
   "outputs": [],
   "source": [
    "df1=df[['Age','Hours per day','BPM']]"
   ]
  },
  {
   "cell_type": "code",
   "execution_count": 49,
   "id": "a43145b0-02c1-4b36-978b-f8cffd98fb53",
   "metadata": {},
   "outputs": [
    {
     "data": {
      "image/png": "[encoded data removed]",
      "text/plain": [
       "<Figure size 640x480 with 3 Axes>"
      ]
     },
     "metadata": {},
     "output_type": "display_data"
    }
   ],
   "source": [
    "fig,axs=plt.subplots(1,3)\n",
    "for i,ax in enumerate(axs.flat):\n",
    "    ax.boxplot(df1.iloc[:,i])\n",
    "    ax.set_title(df1.columns[i],fontsize=20)\n",
    "    ax.tick_params(axis='y',labelsize=14)\n",
    "    \n",
    "plt.tight_layout()"
   ]
  },
  {
   "cell_type": "code",
   "execution_count": 51,
   "id": "8e3e06f3-683d-4cf5-9323-e80ff9ea1ae7",
   "metadata": {},
   "outputs": [],
   "source": [
    "q3_age = df[['Age']].quantile(0.75)\n",
    "q1_age = df[['Age']].quantile(0.25)\n",
    "t_age = q3_age-q1_age\n",
    "#Upper fence\n",
    "outliers_above_age = q3_age+3*t_age\n",
    "#Lower Fence\n",
    "outliers_below_age = q1_age-3*t_age\n",
    "\n",
    "q3_hpd = df[['Hours per day']].quantile(0.75)\n",
    "q1_hpd = df[['Hours per day']].quantile(0.25)\n",
    "t_hpd = q3_hpd-q1_hpd\n",
    "#Upper fence\n",
    "outliers_above_hpd = q3_hpd+3*t_hpd\n",
    "#Lower Fence\n",
    "outliers_below_hpd = q1_hpd-3*t_hpd\n",
    "\n",
    "q3_bpm = df[['BPM']].quantile(0.75)\n",
    "q1_bpm = df[['BPM']].quantile(0.25)\n",
    "t_bpm = q3_bpm-q1_bpm\n",
    "#Upper fence\n",
    "outliers_above_bpm = q3_bpm+3*t_bpm\n",
    "#Lower Fence\n",
    "outliers_below_bpm = q1_bpm-3*t_bpm"
   ]
  },
  {
   "cell_type": "code",
   "execution_count": 53,
   "id": "4aba256e-58ae-45f9-8fda-c9515d1542d6",
   "metadata": {},
   "outputs": [
    {
     "name": "stdout",
     "output_type": "stream",
     "text": [
      "Age    58.0\n",
      "dtype: float64\n",
      "Hours per day    14.0\n",
      "dtype: float64\n",
      "BPM    245.0\n",
      "dtype: float64\n"
     ]
    }
   ],
   "source": [
    "print(outliers_above_age)\n",
    "print(outliers_above_hpd)\n",
    "print(outliers_above_bpm)"
   ]
  },
  {
   "cell_type": "code",
   "execution_count": 55,
   "id": "b8dbd3be-7986-4f28-9709-4bdee482fbca",
   "metadata": {},
   "outputs": [],
   "source": [
    "df_drop=df.copy(deep = True)\n",
    "df_drop=df_drop.loc[~(df_drop['Age']>58.0)]\n",
    "df_drop=df_drop.loc[~(df_drop['Hours per day']>14.0)]\n",
    "df_drop=df_drop.loc[~(df_drop['BPM']>245.0)]"
   ]
  },
  {
   "cell_type": "code",
   "execution_count": 57,
   "id": "f226dde6-5b7e-4d7b-b457-417595f1bd5d",
   "metadata": {},
   "outputs": [
    {
     "data": {
      "text/html": [
       "<div>\n",
       "<style scoped>\n",
       "    .dataframe tbody tr th:only-of-type {\n",
       "        vertical-align: middle;\n",
       "    }\n",
       "\n",
       "    .dataframe tbody tr th {\n",
       "        vertical-align: top;\n",
       "    }\n",
       "\n",
       "    .dataframe thead th {\n",
       "        text-align: right;\n",
       "    }\n",
       "</style>\n",
       "<table border=\"1\" class=\"dataframe\">\n",
       "  <thead>\n",
       "    <tr style=\"text-align: right;\">\n",
       "      <th></th>\n",
       "      <th>count</th>\n",
       "      <th>mean</th>\n",
       "      <th>std</th>\n",
       "      <th>min</th>\n",
       "      <th>25%</th>\n",
       "      <th>50%</th>\n",
       "      <th>75%</th>\n",
       "      <th>max</th>\n",
       "    </tr>\n",
       "  </thead>\n",
       "  <tbody>\n",
       "    <tr>\n",
       "      <th>Age</th>\n",
       "      <td>697.0</td>\n",
       "      <td>23.550933</td>\n",
       "      <td>8.795444</td>\n",
       "      <td>10.0</td>\n",
       "      <td>18.0</td>\n",
       "      <td>21.0</td>\n",
       "      <td>26.000</td>\n",
       "      <td>58.0</td>\n",
       "    </tr>\n",
       "    <tr>\n",
       "      <th>Hours per day</th>\n",
       "      <td>698.0</td>\n",
       "      <td>3.423066</td>\n",
       "      <td>2.527153</td>\n",
       "      <td>0.0</td>\n",
       "      <td>2.0</td>\n",
       "      <td>3.0</td>\n",
       "      <td>4.875</td>\n",
       "      <td>14.0</td>\n",
       "    </tr>\n",
       "    <tr>\n",
       "      <th>BPM</th>\n",
       "      <td>698.0</td>\n",
       "      <td>122.935530</td>\n",
       "      <td>30.930479</td>\n",
       "      <td>0.0</td>\n",
       "      <td>105.0</td>\n",
       "      <td>120.0</td>\n",
       "      <td>140.000</td>\n",
       "      <td>220.0</td>\n",
       "    </tr>\n",
       "    <tr>\n",
       "      <th>Anxiety</th>\n",
       "      <td>698.0</td>\n",
       "      <td>5.907593</td>\n",
       "      <td>2.774730</td>\n",
       "      <td>0.0</td>\n",
       "      <td>4.0</td>\n",
       "      <td>6.0</td>\n",
       "      <td>8.000</td>\n",
       "      <td>10.0</td>\n",
       "    </tr>\n",
       "    <tr>\n",
       "      <th>Depression</th>\n",
       "      <td>698.0</td>\n",
       "      <td>4.862464</td>\n",
       "      <td>3.014622</td>\n",
       "      <td>0.0</td>\n",
       "      <td>2.0</td>\n",
       "      <td>5.0</td>\n",
       "      <td>7.000</td>\n",
       "      <td>10.0</td>\n",
       "    </tr>\n",
       "    <tr>\n",
       "      <th>Insomnia</th>\n",
       "      <td>698.0</td>\n",
       "      <td>3.742837</td>\n",
       "      <td>3.075121</td>\n",
       "      <td>0.0</td>\n",
       "      <td>1.0</td>\n",
       "      <td>3.0</td>\n",
       "      <td>6.000</td>\n",
       "      <td>10.0</td>\n",
       "    </tr>\n",
       "    <tr>\n",
       "      <th>OCD</th>\n",
       "      <td>698.0</td>\n",
       "      <td>2.684814</td>\n",
       "      <td>2.862502</td>\n",
       "      <td>0.0</td>\n",
       "      <td>0.0</td>\n",
       "      <td>2.0</td>\n",
       "      <td>5.000</td>\n",
       "      <td>10.0</td>\n",
       "    </tr>\n",
       "  </tbody>\n",
       "</table>\n",
       "</div>"
      ],
      "text/plain": [
       "               count        mean        std   min    25%    50%      75%  \\\n",
       "Age            697.0   23.550933   8.795444  10.0   18.0   21.0   26.000   \n",
       "Hours per day  698.0    3.423066   2.527153   0.0    2.0    3.0    4.875   \n",
       "BPM            698.0  122.935530  30.930479   0.0  105.0  120.0  140.000   \n",
       "Anxiety        698.0    5.907593   2.774730   0.0    4.0    6.0    8.000   \n",
       "Depression     698.0    4.862464   3.014622   0.0    2.0    5.0    7.000   \n",
       "Insomnia       698.0    3.742837   3.075121   0.0    1.0    3.0    6.000   \n",
       "OCD            698.0    2.684814   2.862502   0.0    0.0    2.0    5.000   \n",
       "\n",
       "                 max  \n",
       "Age             58.0  \n",
       "Hours per day   14.0  \n",
       "BPM            220.0  \n",
       "Anxiety         10.0  \n",
       "Depression      10.0  \n",
       "Insomnia        10.0  \n",
       "OCD             10.0  "
      ]
     },
     "execution_count": 57,
     "metadata": {},
     "output_type": "execute_result"
    }
   ],
   "source": [
    "df_drop.describe().T"
   ]
  },
  {
   "cell_type": "markdown",
   "id": "657eeced-09b0-449f-9f6d-2d592619ca96",
   "metadata": {},
   "source": [
    "After removing the outliers and null values the dataset looks more balanced with only 682 records left out of the initial 736."
   ]
  },
  {
   "cell_type": "markdown",
   "id": "d31a82b3-0ec6-47e4-9fc6-747b15810e11",
   "metadata": {},
   "source": [
    "첨도와 왜도\n",
    "**첨도 (Kurtosis)**는 확률 분포의 형태를 설명합니다. 이는 분포의 꼬리 부분의 두께를 측정하는 지표입니다.\n",
    "\n",
    "양의 값: 꼬리가 두껍거나 데이터가 꼬리 부분에 더 많이 분포되어 있음을 나타냅니다.\n",
    "\n",
    "음의 값: 꼬리가 얇거나 데이터가 꼬리 부분에 덜 분포되어 있음을 나타냅니다."
   ]
  },
  {
   "cell_type": "code",
   "execution_count": 61,
   "id": "0c94ce88-56e0-4d85-9143-e72b364f43ca",
   "metadata": {},
   "outputs": [
    {
     "data": {
      "text/plain": [
       "Age              3.290939\n",
       "Hours per day    1.866832\n",
       "BPM              1.159124\n",
       "Anxiety         -0.716341\n",
       "Depression      -1.129082\n",
       "Insomnia        -1.021928\n",
       "OCD             -0.219282\n",
       "dtype: float64"
      ]
     },
     "execution_count": 61,
     "metadata": {},
     "output_type": "execute_result"
    }
   ],
   "source": [
    "df_drop.kurtosis(numeric_only  = True)"
   ]
  },
  {
   "cell_type": "markdown",
   "id": "516f4d3c-7e89-4bee-b977-e8de6701922a",
   "metadata": {},
   "source": [
    "왜도 (Skewness)\n",
    "왜도는 첨도와 유사하게 확률 분포의 형태를 설명합니다. 이는 분포의 비대칭성을 측정하는 지표입니다.\n",
    "\n",
    "양의 왜도: 오른쪽 꼬리가 더 길다는 것을 나타냅니다.\n",
    "\n",
    "음의 왜도: 왼쪽 꼬리가 더 길다는 것을 나타냅니다."
   ]
  },
  {
   "cell_type": "code",
   "execution_count": 64,
   "id": "8512d22f-32bf-4f81-88fc-4aac46b56a49",
   "metadata": {},
   "outputs": [
    {
     "data": {
      "text/plain": [
       "Age              1.763317\n",
       "Hours per day    1.396842\n",
       "BPM              0.137868\n",
       "Anxiety         -0.449537\n",
       "Depression      -0.085624\n",
       "Insomnia         0.404531\n",
       "OCD              0.916862\n",
       "dtype: float64"
      ]
     },
     "execution_count": 64,
     "metadata": {},
     "output_type": "execute_result"
    }
   ],
   "source": [
    "df_drop.skew(numeric_only = True)"
   ]
  },
  {
   "cell_type": "markdown",
   "id": "f8d28498-94f7-4bff-bffb-199916f2ad7f",
   "metadata": {},
   "source": [
    "Data Visualization\n",
    "Correlation Map"
   ]
  },
  {
   "cell_type": "code",
   "execution_count": 67,
   "id": "7c1fda19-e444-479a-b6e6-bca325a212f6",
   "metadata": {},
   "outputs": [
    {
     "name": "stdout",
     "output_type": "stream",
     "text": [
      "Age                             float64\n",
      "Primary streaming service        object\n",
      "Hours per day                   float64\n",
      "While working                    object\n",
      "Instrumentalist                  object\n",
      "Composer                         object\n",
      "Fav genre                        object\n",
      "Exploratory                      object\n",
      "Foreign languages                object\n",
      "BPM                             float64\n",
      "Frequency [Classical]            object\n",
      "Frequency [Country]              object\n",
      "Frequency [EDM]                  object\n",
      "Frequency [Folk]                 object\n",
      "Frequency [Gospel]               object\n",
      "Frequency [Hip hop]              object\n",
      "Frequency [Jazz]                 object\n",
      "Frequency [K pop]                object\n",
      "Frequency [Latin]                object\n",
      "Frequency [Lofi]                 object\n",
      "Frequency [Metal]                object\n",
      "Frequency [Pop]                  object\n",
      "Frequency [R&B]                  object\n",
      "Frequency [Rap]                  object\n",
      "Frequency [Rock]                 object\n",
      "Frequency [Video game music]     object\n",
      "Anxiety                         float64\n",
      "Depression                      float64\n",
      "Insomnia                        float64\n",
      "OCD                             float64\n",
      "Music effects                    object\n",
      "dtype: object\n",
      "                    Age  Hours per day       BPM   Anxiety  Depression  \\\n",
      "Age            1.000000      -0.085022  0.035171 -0.133388   -0.039551   \n",
      "Hours per day -0.085022       1.000000  0.048864  0.079936    0.141913   \n",
      "BPM            0.035171       0.048864  1.000000  0.021571    0.028870   \n",
      "Anxiety       -0.133388       0.079936  0.021571  1.000000    0.502146   \n",
      "Depression    -0.039551       0.141913  0.028870  0.502146    1.000000   \n",
      "Insomnia       0.059536       0.150305  0.041601  0.277341    0.370904   \n",
      "OCD           -0.066921       0.111844 -0.034616  0.341114    0.174655   \n",
      "\n",
      "               Insomnia       OCD  \n",
      "Age            0.059536 -0.066921  \n",
      "Hours per day  0.150305  0.111844  \n",
      "BPM            0.041601 -0.034616  \n",
      "Anxiety        0.277341  0.341114  \n",
      "Depression     0.370904  0.174655  \n",
      "Insomnia       1.000000  0.223242  \n",
      "OCD            0.223242  1.000000  \n"
     ]
    }
   ],
   "source": [
    "import pandas as pd\n",
    "import numpy as np\n",
    "\n",
    "# 데이터프레임 생성 예시\n",
    "# df_drop = pd.DataFrame({...})\n",
    "\n",
    "# 데이터 유형 확인\n",
    "print(df_drop.dtypes)\n",
    "\n",
    "# 숫자형 데이터만 선택\n",
    "df_drop = df_drop.select_dtypes(include=[np.number])\n",
    "\n",
    "# 상관관계 계산\n",
    "corr = df_drop.corr()\n",
    "print(corr)"
   ]
  },
  {
   "cell_type": "markdown",
   "id": "ae7cd974-5154-4fad-a720-1d99c17c5dca",
   "metadata": {},
   "source": [
    "Data Visualization\n",
    "- Correlation Map"
   ]
  },
  {
   "cell_type": "code",
   "execution_count": 70,
   "id": "e68bf4e0-bcee-4ce5-bb93-ba8d71ca3a6b",
   "metadata": {},
   "outputs": [],
   "source": [
    "corr=df_drop.corr()"
   ]
  },
  {
   "cell_type": "code",
   "execution_count": 72,
   "id": "6304e896-4170-4153-934a-3a89af4337fb",
   "metadata": {},
   "outputs": [
    {
     "data": {
      "text/html": [
       "<div>\n",
       "<style scoped>\n",
       "    .dataframe tbody tr th:only-of-type {\n",
       "        vertical-align: middle;\n",
       "    }\n",
       "\n",
       "    .dataframe tbody tr th {\n",
       "        vertical-align: top;\n",
       "    }\n",
       "\n",
       "    .dataframe thead th {\n",
       "        text-align: right;\n",
       "    }\n",
       "</style>\n",
       "<table border=\"1\" class=\"dataframe\">\n",
       "  <thead>\n",
       "    <tr style=\"text-align: right;\">\n",
       "      <th></th>\n",
       "      <th>Age</th>\n",
       "      <th>Hours per day</th>\n",
       "      <th>BPM</th>\n",
       "      <th>Anxiety</th>\n",
       "      <th>Depression</th>\n",
       "      <th>Insomnia</th>\n",
       "      <th>OCD</th>\n",
       "    </tr>\n",
       "  </thead>\n",
       "  <tbody>\n",
       "    <tr>\n",
       "      <th>Age</th>\n",
       "      <td>1.000000</td>\n",
       "      <td>-0.085022</td>\n",
       "      <td>0.035171</td>\n",
       "      <td>-0.133388</td>\n",
       "      <td>-0.039551</td>\n",
       "      <td>0.059536</td>\n",
       "      <td>-0.066921</td>\n",
       "    </tr>\n",
       "    <tr>\n",
       "      <th>Hours per day</th>\n",
       "      <td>-0.085022</td>\n",
       "      <td>1.000000</td>\n",
       "      <td>0.048864</td>\n",
       "      <td>0.079936</td>\n",
       "      <td>0.141913</td>\n",
       "      <td>0.150305</td>\n",
       "      <td>0.111844</td>\n",
       "    </tr>\n",
       "    <tr>\n",
       "      <th>BPM</th>\n",
       "      <td>0.035171</td>\n",
       "      <td>0.048864</td>\n",
       "      <td>1.000000</td>\n",
       "      <td>0.021571</td>\n",
       "      <td>0.028870</td>\n",
       "      <td>0.041601</td>\n",
       "      <td>-0.034616</td>\n",
       "    </tr>\n",
       "    <tr>\n",
       "      <th>Anxiety</th>\n",
       "      <td>-0.133388</td>\n",
       "      <td>0.079936</td>\n",
       "      <td>0.021571</td>\n",
       "      <td>1.000000</td>\n",
       "      <td>0.502146</td>\n",
       "      <td>0.277341</td>\n",
       "      <td>0.341114</td>\n",
       "    </tr>\n",
       "    <tr>\n",
       "      <th>Depression</th>\n",
       "      <td>-0.039551</td>\n",
       "      <td>0.141913</td>\n",
       "      <td>0.028870</td>\n",
       "      <td>0.502146</td>\n",
       "      <td>1.000000</td>\n",
       "      <td>0.370904</td>\n",
       "      <td>0.174655</td>\n",
       "    </tr>\n",
       "    <tr>\n",
       "      <th>Insomnia</th>\n",
       "      <td>0.059536</td>\n",
       "      <td>0.150305</td>\n",
       "      <td>0.041601</td>\n",
       "      <td>0.277341</td>\n",
       "      <td>0.370904</td>\n",
       "      <td>1.000000</td>\n",
       "      <td>0.223242</td>\n",
       "    </tr>\n",
       "    <tr>\n",
       "      <th>OCD</th>\n",
       "      <td>-0.066921</td>\n",
       "      <td>0.111844</td>\n",
       "      <td>-0.034616</td>\n",
       "      <td>0.341114</td>\n",
       "      <td>0.174655</td>\n",
       "      <td>0.223242</td>\n",
       "      <td>1.000000</td>\n",
       "    </tr>\n",
       "  </tbody>\n",
       "</table>\n",
       "</div>"
      ],
      "text/plain": [
       "                    Age  Hours per day       BPM   Anxiety  Depression  \\\n",
       "Age            1.000000      -0.085022  0.035171 -0.133388   -0.039551   \n",
       "Hours per day -0.085022       1.000000  0.048864  0.079936    0.141913   \n",
       "BPM            0.035171       0.048864  1.000000  0.021571    0.028870   \n",
       "Anxiety       -0.133388       0.079936  0.021571  1.000000    0.502146   \n",
       "Depression    -0.039551       0.141913  0.028870  0.502146    1.000000   \n",
       "Insomnia       0.059536       0.150305  0.041601  0.277341    0.370904   \n",
       "OCD           -0.066921       0.111844 -0.034616  0.341114    0.174655   \n",
       "\n",
       "               Insomnia       OCD  \n",
       "Age            0.059536 -0.066921  \n",
       "Hours per day  0.150305  0.111844  \n",
       "BPM            0.041601 -0.034616  \n",
       "Anxiety        0.277341  0.341114  \n",
       "Depression     0.370904  0.174655  \n",
       "Insomnia       1.000000  0.223242  \n",
       "OCD            0.223242  1.000000  "
      ]
     },
     "execution_count": 72,
     "metadata": {},
     "output_type": "execute_result"
    }
   ],
   "source": [
    "corr"
   ]
  },
  {
   "cell_type": "code",
   "execution_count": 74,
   "id": "53f8f7c0-5622-4857-abde-d91c7423f529",
   "metadata": {},
   "outputs": [
    {
     "data": {
      "text/plain": [
       "<Axes: >"
      ]
     },
     "execution_count": 74,
     "metadata": {},
     "output_type": "execute_result"
    },
    {
     "data": {
      "image/png": "[encoded data removed]",
      "text/plain": [
       "<Figure size 640x480 with 2 Axes>"
      ]
     },
     "metadata": {},
     "output_type": "display_data"
    }
   ],
   "source": [
    "sns.heatmap(corr)"
   ]
  },
  {
   "cell_type": "markdown",
   "id": "09482c35-2eb6-4cbc-b56a-00fdc20d973e",
   "metadata": {},
   "source": [
    "불안과 우울증 사이에는 강한 정적 상관관계가 있습니다.\n",
    "\n",
    "우울증과 불면증 사이에는 중간 정도의 상관관계가 있습니다.\n",
    "\n",
    "불안과 OCD 사이에도 중간 정도의 상관관계가 있습니다."
   ]
  },
  {
   "cell_type": "code",
   "execution_count": 77,
   "id": "7fcc3dcc-068c-461c-9b20-3f85fc716043",
   "metadata": {},
   "outputs": [
    {
     "data": {
      "text/plain": [
       "array([[<Axes: title={'center': 'Age'}>,\n",
       "        <Axes: title={'center': 'Hours per day'}>,\n",
       "        <Axes: title={'center': 'BPM'}>],\n",
       "       [<Axes: title={'center': 'Anxiety'}>,\n",
       "        <Axes: title={'center': 'Depression'}>,\n",
       "        <Axes: title={'center': 'Insomnia'}>],\n",
       "       [<Axes: title={'center': 'OCD'}>, <Axes: >, <Axes: >]],\n",
       "      dtype=object)"
      ]
     },
     "execution_count": 77,
     "metadata": {},
     "output_type": "execute_result"
    },
    {
     "data": {
      "image/png": "[encoded data removed]",
      "text/plain": [
       "<Figure size 2000x1000 with 9 Axes>"
      ]
     },
     "metadata": {},
     "output_type": "display_data"
    }
   ],
   "source": [
    "df_drop.hist(figsize=(20,10))"
   ]
  },
  {
   "cell_type": "markdown",
   "id": "f0ea7d69-ccb9-4aef-8ee2-71bc16738545",
   "metadata": {},
   "source": [
    "데이터셋은 다음과 같은 특성을 가지고 있습니다:\n",
    "\n",
    "- 15세에서 25세 사이의 사람들에 대한 데이터가 더 많이 수집되었습니다.\n",
    "- 대부분의 사람들은 하루에 1-4시간 음악을 듣습니다.\n",
    "- 분당 비트 수(BPM)는 일반적으로 100-150 사이입니다.\n",
    "- 데이터셋에 있는 대부분의 사람들은 불안과 우울증을 겪고 있습니다."
   ]
  },
  {
   "cell_type": "code",
   "execution_count": 80,
   "id": "f8648f7d-6b79-444d-8cf1-606c857c1b9e",
   "metadata": {},
   "outputs": [
    {
     "name": "stdout",
     "output_type": "stream",
     "text": [
      "['Age', 'Hours per day', 'BPM', 'Anxiety', 'Depression', 'Insomnia', 'OCD']\n"
     ]
    }
   ],
   "source": [
    "print(df_drop.columns.tolist())"
   ]
  },
  {
   "cell_type": "code",
   "execution_count": 82,
   "id": "17379ea8-13c7-434d-88c4-a90b0e19e566",
   "metadata": {},
   "outputs": [
    {
     "name": "stdout",
     "output_type": "stream",
     "text": [
      "    Age  Hours per day    BPM  Anxiety  Depression  Insomnia  OCD\n",
      "0  18.0            3.0  156.0      3.0         0.0       1.0  0.0\n",
      "2  18.0            4.0  132.0      7.0         7.0      10.0  2.0\n",
      "4  18.0            4.0  107.0      7.0         2.0       5.0  9.0\n",
      "5  18.0            5.0   86.0      8.0         8.0       7.0  7.0\n",
      "6  18.0            3.0   66.0      4.0         8.0       6.0  0.0\n"
     ]
    }
   ],
   "source": [
    "print(df_drop.head())"
   ]
  },
  {
   "cell_type": "code",
   "execution_count": 84,
   "id": "8c1d23d5-12d4-440f-a0e3-c3d6acce69b4",
   "metadata": {},
   "outputs": [],
   "source": [
    "df_drop.columns = df_drop.columns.str.strip()  # 공백 제거\n",
    "df_drop.columns = df_drop.columns.str.lower()  # 소문자 변환"
   ]
  },
  {
   "cell_type": "code",
   "execution_count": 86,
   "id": "ba880e14-4dd3-4da0-b627-dca27eba3d02",
   "metadata": {},
   "outputs": [
    {
     "ename": "KeyError",
     "evalue": "'Primary streaming service'",
     "output_type": "error",
     "traceback": [
      "\u001b[1;31m---------------------------------------------------------------------------\u001b[0m",
      "\u001b[1;31mKeyError\u001b[0m                                  Traceback (most recent call last)",
      "File \u001b[1;32mC:\\ProgramData\\anaconda3\\Lib\\site-packages\\pandas\\core\\indexes\\base.py:3805\u001b[0m, in \u001b[0;36mIndex.get_loc\u001b[1;34m(self, key)\u001b[0m\n\u001b[0;32m   3804\u001b[0m \u001b[38;5;28;01mtry\u001b[39;00m:\n\u001b[1;32m-> 3805\u001b[0m     \u001b[38;5;28;01mreturn\u001b[39;00m \u001b[38;5;28mself\u001b[39m\u001b[38;5;241m.\u001b[39m_engine\u001b[38;5;241m.\u001b[39mget_loc(casted_key)\n\u001b[0;32m   3806\u001b[0m \u001b[38;5;28;01mexcept\u001b[39;00m \u001b[38;5;167;01mKeyError\u001b[39;00m \u001b[38;5;28;01mas\u001b[39;00m err:\n",
      "File \u001b[1;32mindex.pyx:167\u001b[0m, in \u001b[0;36mpandas._libs.index.IndexEngine.get_loc\u001b[1;34m()\u001b[0m\n",
      "File \u001b[1;32mindex.pyx:196\u001b[0m, in \u001b[0;36mpandas._libs.index.IndexEngine.get_loc\u001b[1;34m()\u001b[0m\n",
      "File \u001b[1;32mpandas\\\\_libs\\\\hashtable_class_helper.pxi:7081\u001b[0m, in \u001b[0;36mpandas._libs.hashtable.PyObjectHashTable.get_item\u001b[1;34m()\u001b[0m\n",
      "File \u001b[1;32mpandas\\\\_libs\\\\hashtable_class_helper.pxi:7089\u001b[0m, in \u001b[0;36mpandas._libs.hashtable.PyObjectHashTable.get_item\u001b[1;34m()\u001b[0m\n",
      "\u001b[1;31mKeyError\u001b[0m: 'Primary streaming service'",
      "\nThe above exception was the direct cause of the following exception:\n",
      "\u001b[1;31mKeyError\u001b[0m                                  Traceback (most recent call last)",
      "Cell \u001b[1;32mIn[86], line 2\u001b[0m\n\u001b[0;32m      1\u001b[0m fig \u001b[38;5;241m=\u001b[39m plt\u001b[38;5;241m.\u001b[39mfigure(figsize\u001b[38;5;241m=\u001b[39m(\u001b[38;5;241m8\u001b[39m, \u001b[38;5;241m4\u001b[39m))\n\u001b[1;32m----> 2\u001b[0m sns\u001b[38;5;241m.\u001b[39mcountplot(x\u001b[38;5;241m=\u001b[39mdf_drop[\u001b[38;5;124m'\u001b[39m\u001b[38;5;124mPrimary streaming service\u001b[39m\u001b[38;5;124m'\u001b[39m], palette\u001b[38;5;241m=\u001b[39m\u001b[38;5;124m\"\u001b[39m\u001b[38;5;124mrainbow\u001b[39m\u001b[38;5;124m\"\u001b[39m)  \u001b[38;5;66;03m# 수정된 열 이름 사용\u001b[39;00m\n\u001b[0;32m      3\u001b[0m plt\u001b[38;5;241m.\u001b[39mxticks(rotation\u001b[38;5;241m=\u001b[39m\u001b[38;5;241m75\u001b[39m)\n\u001b[0;32m      4\u001b[0m plt\u001b[38;5;241m.\u001b[39mshow()\n",
      "File \u001b[1;32mC:\\ProgramData\\anaconda3\\Lib\\site-packages\\pandas\\core\\frame.py:4102\u001b[0m, in \u001b[0;36mDataFrame.__getitem__\u001b[1;34m(self, key)\u001b[0m\n\u001b[0;32m   4100\u001b[0m \u001b[38;5;28;01mif\u001b[39;00m \u001b[38;5;28mself\u001b[39m\u001b[38;5;241m.\u001b[39mcolumns\u001b[38;5;241m.\u001b[39mnlevels \u001b[38;5;241m>\u001b[39m \u001b[38;5;241m1\u001b[39m:\n\u001b[0;32m   4101\u001b[0m     \u001b[38;5;28;01mreturn\u001b[39;00m \u001b[38;5;28mself\u001b[39m\u001b[38;5;241m.\u001b[39m_getitem_multilevel(key)\n\u001b[1;32m-> 4102\u001b[0m indexer \u001b[38;5;241m=\u001b[39m \u001b[38;5;28mself\u001b[39m\u001b[38;5;241m.\u001b[39mcolumns\u001b[38;5;241m.\u001b[39mget_loc(key)\n\u001b[0;32m   4103\u001b[0m \u001b[38;5;28;01mif\u001b[39;00m is_integer(indexer):\n\u001b[0;32m   4104\u001b[0m     indexer \u001b[38;5;241m=\u001b[39m [indexer]\n",
      "File \u001b[1;32mC:\\ProgramData\\anaconda3\\Lib\\site-packages\\pandas\\core\\indexes\\base.py:3812\u001b[0m, in \u001b[0;36mIndex.get_loc\u001b[1;34m(self, key)\u001b[0m\n\u001b[0;32m   3807\u001b[0m     \u001b[38;5;28;01mif\u001b[39;00m \u001b[38;5;28misinstance\u001b[39m(casted_key, \u001b[38;5;28mslice\u001b[39m) \u001b[38;5;129;01mor\u001b[39;00m (\n\u001b[0;32m   3808\u001b[0m         \u001b[38;5;28misinstance\u001b[39m(casted_key, abc\u001b[38;5;241m.\u001b[39mIterable)\n\u001b[0;32m   3809\u001b[0m         \u001b[38;5;129;01mand\u001b[39;00m \u001b[38;5;28many\u001b[39m(\u001b[38;5;28misinstance\u001b[39m(x, \u001b[38;5;28mslice\u001b[39m) \u001b[38;5;28;01mfor\u001b[39;00m x \u001b[38;5;129;01min\u001b[39;00m casted_key)\n\u001b[0;32m   3810\u001b[0m     ):\n\u001b[0;32m   3811\u001b[0m         \u001b[38;5;28;01mraise\u001b[39;00m InvalidIndexError(key)\n\u001b[1;32m-> 3812\u001b[0m     \u001b[38;5;28;01mraise\u001b[39;00m \u001b[38;5;167;01mKeyError\u001b[39;00m(key) \u001b[38;5;28;01mfrom\u001b[39;00m \u001b[38;5;21;01merr\u001b[39;00m\n\u001b[0;32m   3813\u001b[0m \u001b[38;5;28;01mexcept\u001b[39;00m \u001b[38;5;167;01mTypeError\u001b[39;00m:\n\u001b[0;32m   3814\u001b[0m     \u001b[38;5;66;03m# If we have a listlike key, _check_indexing_error will raise\u001b[39;00m\n\u001b[0;32m   3815\u001b[0m     \u001b[38;5;66;03m#  InvalidIndexError. Otherwise we fall through and re-raise\u001b[39;00m\n\u001b[0;32m   3816\u001b[0m     \u001b[38;5;66;03m#  the TypeError.\u001b[39;00m\n\u001b[0;32m   3817\u001b[0m     \u001b[38;5;28mself\u001b[39m\u001b[38;5;241m.\u001b[39m_check_indexing_error(key)\n",
      "\u001b[1;31mKeyError\u001b[0m: 'Primary streaming service'"
     ]
    },
    {
     "data": {
      "text/plain": [
       "<Figure size 800x400 with 0 Axes>"
      ]
     },
     "metadata": {},
     "output_type": "display_data"
    }
   ],
   "source": [
    "fig = plt.figure(figsize=(8, 4))\n",
    "sns.countplot(x=df_drop['Primary streaming service'], palette=\"rainbow\")  # 수정된 열 이름 사용\n",
    "plt.xticks(rotation=75)\n",
    "plt.show()"
   ]
  },
  {
   "cell_type": "code",
   "execution_count": 31,
   "id": "9bdd450d-2054-476a-91cf-e9c6e50fc4f0",
   "metadata": {},
   "outputs": [
    {
     "ename": "NameError",
     "evalue": "name 'df_drop' is not defined",
     "output_type": "error",
     "traceback": [
      "\u001b[1;31m---------------------------------------------------------------------------\u001b[0m",
      "\u001b[1;31mNameError\u001b[0m                                 Traceback (most recent call last)",
      "Cell \u001b[1;32mIn[31], line 2\u001b[0m\n\u001b[0;32m      1\u001b[0m fig\u001b[38;5;241m=\u001b[39mplt\u001b[38;5;241m.\u001b[39mfigure(figsize\u001b[38;5;241m=\u001b[39m(\u001b[38;5;241m8\u001b[39m,\u001b[38;5;241m4\u001b[39m))\n\u001b[1;32m----> 2\u001b[0m sns\u001b[38;5;241m.\u001b[39mcountplot(x\u001b[38;5;241m=\u001b[39mdf_drop[\u001b[38;5;124m'\u001b[39m\u001b[38;5;124mPrimary streaming service\u001b[39m\u001b[38;5;124m'\u001b[39m],palette\u001b[38;5;241m=\u001b[39m\u001b[38;5;124m\"\u001b[39m\u001b[38;5;124mrainbow\u001b[39m\u001b[38;5;124m\"\u001b[39m)\n\u001b[0;32m      3\u001b[0m plt\u001b[38;5;241m.\u001b[39mxticks(rotation\u001b[38;5;241m=\u001b[39m\u001b[38;5;241m75\u001b[39m)\n\u001b[0;32m      4\u001b[0m plt\u001b[38;5;241m.\u001b[39mshow()\n",
      "\u001b[1;31mNameError\u001b[0m: name 'df_drop' is not defined"
     ]
    },
    {
     "data": {
      "text/plain": [
       "<Figure size 800x400 with 0 Axes>"
      ]
     },
     "metadata": {},
     "output_type": "display_data"
    }
   ],
   "source": [
    "fig=plt.figure(figsize=(8,4))\n",
    "sns.countplot(x=df_drop['Primary streaming service'],palette=\"rainbow\")\n",
    "plt.xticks(rotation=75)\n",
    "plt.show()"
   ]
  },
  {
   "cell_type": "code",
   "execution_count": 33,
   "id": "ef255d68-8765-43c7-9d36-423a604c1173",
   "metadata": {},
   "outputs": [
    {
     "ename": "NameError",
     "evalue": "name 'df_drop' is not defined",
     "output_type": "error",
     "traceback": [
      "\u001b[1;31m---------------------------------------------------------------------------\u001b[0m",
      "\u001b[1;31mNameError\u001b[0m                                 Traceback (most recent call last)",
      "Cell \u001b[1;32mIn[33], line 1\u001b[0m\n\u001b[1;32m----> 1\u001b[0m \u001b[38;5;28mprint\u001b[39m(df_drop\u001b[38;5;241m.\u001b[39mcolumns\u001b[38;5;241m.\u001b[39mtolist())\n",
      "\u001b[1;31mNameError\u001b[0m: name 'df_drop' is not defined"
     ]
    }
   ],
   "source": [
    "print(df_drop.columns.tolist())"
   ]
  },
  {
   "cell_type": "code",
   "execution_count": 120,
   "id": "701c1db3-275b-466e-a2ff-d45640ae9407",
   "metadata": {},
   "outputs": [
    {
     "ename": "KeyError",
     "evalue": "'Foreign languages'",
     "output_type": "error",
     "traceback": [
      "\u001b[1;31m---------------------------------------------------------------------------\u001b[0m",
      "\u001b[1;31mKeyError\u001b[0m                                  Traceback (most recent call last)",
      "File \u001b[1;32mC:\\ProgramData\\anaconda3\\Lib\\site-packages\\pandas\\core\\indexes\\base.py:3805\u001b[0m, in \u001b[0;36mIndex.get_loc\u001b[1;34m(self, key)\u001b[0m\n\u001b[0;32m   3804\u001b[0m \u001b[38;5;28;01mtry\u001b[39;00m:\n\u001b[1;32m-> 3805\u001b[0m     \u001b[38;5;28;01mreturn\u001b[39;00m \u001b[38;5;28mself\u001b[39m\u001b[38;5;241m.\u001b[39m_engine\u001b[38;5;241m.\u001b[39mget_loc(casted_key)\n\u001b[0;32m   3806\u001b[0m \u001b[38;5;28;01mexcept\u001b[39;00m \u001b[38;5;167;01mKeyError\u001b[39;00m \u001b[38;5;28;01mas\u001b[39;00m err:\n",
      "File \u001b[1;32mindex.pyx:167\u001b[0m, in \u001b[0;36mpandas._libs.index.IndexEngine.get_loc\u001b[1;34m()\u001b[0m\n",
      "File \u001b[1;32mindex.pyx:196\u001b[0m, in \u001b[0;36mpandas._libs.index.IndexEngine.get_loc\u001b[1;34m()\u001b[0m\n",
      "File \u001b[1;32mpandas\\\\_libs\\\\hashtable_class_helper.pxi:7081\u001b[0m, in \u001b[0;36mpandas._libs.hashtable.PyObjectHashTable.get_item\u001b[1;34m()\u001b[0m\n",
      "File \u001b[1;32mpandas\\\\_libs\\\\hashtable_class_helper.pxi:7089\u001b[0m, in \u001b[0;36mpandas._libs.hashtable.PyObjectHashTable.get_item\u001b[1;34m()\u001b[0m\n",
      "\u001b[1;31mKeyError\u001b[0m: 'Foreign languages'",
      "\nThe above exception was the direct cause of the following exception:\n",
      "\u001b[1;31mKeyError\u001b[0m                                  Traceback (most recent call last)",
      "Cell \u001b[1;32mIn[120], line 2\u001b[0m\n\u001b[0;32m      1\u001b[0m fig\u001b[38;5;241m=\u001b[39mplt\u001b[38;5;241m.\u001b[39mfigure(figsize\u001b[38;5;241m=\u001b[39m(\u001b[38;5;241m8\u001b[39m,\u001b[38;5;241m4\u001b[39m))\n\u001b[1;32m----> 2\u001b[0m sns\u001b[38;5;241m.\u001b[39mcountplot(x\u001b[38;5;241m=\u001b[39mdf_drop[\u001b[38;5;124m'\u001b[39m\u001b[38;5;124mForeign languages\u001b[39m\u001b[38;5;124m'\u001b[39m],palette\u001b[38;5;241m=\u001b[39m\u001b[38;5;124m\"\u001b[39m\u001b[38;5;124mrainbow\u001b[39m\u001b[38;5;124m\"\u001b[39m)\n\u001b[0;32m      3\u001b[0m plt\u001b[38;5;241m.\u001b[39mxticks(rotation\u001b[38;5;241m=\u001b[39m\u001b[38;5;241m75\u001b[39m)\n\u001b[0;32m      4\u001b[0m plt\u001b[38;5;241m.\u001b[39mshow()\n",
      "File \u001b[1;32mC:\\ProgramData\\anaconda3\\Lib\\site-packages\\pandas\\core\\frame.py:4102\u001b[0m, in \u001b[0;36mDataFrame.__getitem__\u001b[1;34m(self, key)\u001b[0m\n\u001b[0;32m   4100\u001b[0m \u001b[38;5;28;01mif\u001b[39;00m \u001b[38;5;28mself\u001b[39m\u001b[38;5;241m.\u001b[39mcolumns\u001b[38;5;241m.\u001b[39mnlevels \u001b[38;5;241m>\u001b[39m \u001b[38;5;241m1\u001b[39m:\n\u001b[0;32m   4101\u001b[0m     \u001b[38;5;28;01mreturn\u001b[39;00m \u001b[38;5;28mself\u001b[39m\u001b[38;5;241m.\u001b[39m_getitem_multilevel(key)\n\u001b[1;32m-> 4102\u001b[0m indexer \u001b[38;5;241m=\u001b[39m \u001b[38;5;28mself\u001b[39m\u001b[38;5;241m.\u001b[39mcolumns\u001b[38;5;241m.\u001b[39mget_loc(key)\n\u001b[0;32m   4103\u001b[0m \u001b[38;5;28;01mif\u001b[39;00m is_integer(indexer):\n\u001b[0;32m   4104\u001b[0m     indexer \u001b[38;5;241m=\u001b[39m [indexer]\n",
      "File \u001b[1;32mC:\\ProgramData\\anaconda3\\Lib\\site-packages\\pandas\\core\\indexes\\base.py:3812\u001b[0m, in \u001b[0;36mIndex.get_loc\u001b[1;34m(self, key)\u001b[0m\n\u001b[0;32m   3807\u001b[0m     \u001b[38;5;28;01mif\u001b[39;00m \u001b[38;5;28misinstance\u001b[39m(casted_key, \u001b[38;5;28mslice\u001b[39m) \u001b[38;5;129;01mor\u001b[39;00m (\n\u001b[0;32m   3808\u001b[0m         \u001b[38;5;28misinstance\u001b[39m(casted_key, abc\u001b[38;5;241m.\u001b[39mIterable)\n\u001b[0;32m   3809\u001b[0m         \u001b[38;5;129;01mand\u001b[39;00m \u001b[38;5;28many\u001b[39m(\u001b[38;5;28misinstance\u001b[39m(x, \u001b[38;5;28mslice\u001b[39m) \u001b[38;5;28;01mfor\u001b[39;00m x \u001b[38;5;129;01min\u001b[39;00m casted_key)\n\u001b[0;32m   3810\u001b[0m     ):\n\u001b[0;32m   3811\u001b[0m         \u001b[38;5;28;01mraise\u001b[39;00m InvalidIndexError(key)\n\u001b[1;32m-> 3812\u001b[0m     \u001b[38;5;28;01mraise\u001b[39;00m \u001b[38;5;167;01mKeyError\u001b[39;00m(key) \u001b[38;5;28;01mfrom\u001b[39;00m \u001b[38;5;21;01merr\u001b[39;00m\n\u001b[0;32m   3813\u001b[0m \u001b[38;5;28;01mexcept\u001b[39;00m \u001b[38;5;167;01mTypeError\u001b[39;00m:\n\u001b[0;32m   3814\u001b[0m     \u001b[38;5;66;03m# If we have a listlike key, _check_indexing_error will raise\u001b[39;00m\n\u001b[0;32m   3815\u001b[0m     \u001b[38;5;66;03m#  InvalidIndexError. Otherwise we fall through and re-raise\u001b[39;00m\n\u001b[0;32m   3816\u001b[0m     \u001b[38;5;66;03m#  the TypeError.\u001b[39;00m\n\u001b[0;32m   3817\u001b[0m     \u001b[38;5;28mself\u001b[39m\u001b[38;5;241m.\u001b[39m_check_indexing_error(key)\n",
      "\u001b[1;31mKeyError\u001b[0m: 'Foreign languages'"
     ]
    },
    {
     "data": {
      "text/plain": [
       "<Figure size 800x400 with 0 Axes>"
      ]
     },
     "metadata": {},
     "output_type": "display_data"
    }
   ],
   "source": [
    "fig=plt.figure(figsize=(8,4))\n",
    "sns.countplot(x=df_drop['Foreign languages'],palette=\"rainbow\")\n",
    "plt.xticks(rotation=75)\n",
    "plt.show()"
   ]
  },
  {
   "cell_type": "code",
   "execution_count": 122,
   "id": "d76237fc-fe0b-46a0-a351-d7442f2a0c83",
   "metadata": {},
   "outputs": [
    {
     "ename": "KeyError",
     "evalue": "'Frequency [Classical]'",
     "output_type": "error",
     "traceback": [
      "\u001b[1;31m---------------------------------------------------------------------------\u001b[0m",
      "\u001b[1;31mKeyError\u001b[0m                                  Traceback (most recent call last)",
      "File \u001b[1;32mC:\\ProgramData\\anaconda3\\Lib\\site-packages\\pandas\\core\\indexes\\base.py:3805\u001b[0m, in \u001b[0;36mIndex.get_loc\u001b[1;34m(self, key)\u001b[0m\n\u001b[0;32m   3804\u001b[0m \u001b[38;5;28;01mtry\u001b[39;00m:\n\u001b[1;32m-> 3805\u001b[0m     \u001b[38;5;28;01mreturn\u001b[39;00m \u001b[38;5;28mself\u001b[39m\u001b[38;5;241m.\u001b[39m_engine\u001b[38;5;241m.\u001b[39mget_loc(casted_key)\n\u001b[0;32m   3806\u001b[0m \u001b[38;5;28;01mexcept\u001b[39;00m \u001b[38;5;167;01mKeyError\u001b[39;00m \u001b[38;5;28;01mas\u001b[39;00m err:\n",
      "File \u001b[1;32mindex.pyx:167\u001b[0m, in \u001b[0;36mpandas._libs.index.IndexEngine.get_loc\u001b[1;34m()\u001b[0m\n",
      "File \u001b[1;32mindex.pyx:196\u001b[0m, in \u001b[0;36mpandas._libs.index.IndexEngine.get_loc\u001b[1;34m()\u001b[0m\n",
      "File \u001b[1;32mpandas\\\\_libs\\\\hashtable_class_helper.pxi:7081\u001b[0m, in \u001b[0;36mpandas._libs.hashtable.PyObjectHashTable.get_item\u001b[1;34m()\u001b[0m\n",
      "File \u001b[1;32mpandas\\\\_libs\\\\hashtable_class_helper.pxi:7089\u001b[0m, in \u001b[0;36mpandas._libs.hashtable.PyObjectHashTable.get_item\u001b[1;34m()\u001b[0m\n",
      "\u001b[1;31mKeyError\u001b[0m: 'Frequency [Classical]'",
      "\nThe above exception was the direct cause of the following exception:\n",
      "\u001b[1;31mKeyError\u001b[0m                                  Traceback (most recent call last)",
      "Cell \u001b[1;32mIn[122], line 2\u001b[0m\n\u001b[0;32m      1\u001b[0m figure,axes\u001b[38;5;241m=\u001b[39mplt\u001b[38;5;241m.\u001b[39msubplots(\u001b[38;5;241m4\u001b[39m,\u001b[38;5;241m4\u001b[39m,figsize\u001b[38;5;241m=\u001b[39m(\u001b[38;5;241m18\u001b[39m,\u001b[38;5;241m10\u001b[39m))\n\u001b[1;32m----> 2\u001b[0m sns\u001b[38;5;241m.\u001b[39mcountplot(ax\u001b[38;5;241m=\u001b[39maxes[\u001b[38;5;241m0\u001b[39m,\u001b[38;5;241m0\u001b[39m],x\u001b[38;5;241m=\u001b[39mdf_drop[\u001b[38;5;124m'\u001b[39m\u001b[38;5;124mFrequency [Classical]\u001b[39m\u001b[38;5;124m'\u001b[39m],palette\u001b[38;5;241m=\u001b[39m\u001b[38;5;124m\"\u001b[39m\u001b[38;5;124mrainbow\u001b[39m\u001b[38;5;124m\"\u001b[39m)\n\u001b[0;32m      3\u001b[0m sns\u001b[38;5;241m.\u001b[39mcountplot(ax\u001b[38;5;241m=\u001b[39maxes[\u001b[38;5;241m0\u001b[39m,\u001b[38;5;241m1\u001b[39m],x\u001b[38;5;241m=\u001b[39mdf_drop[\u001b[38;5;124m'\u001b[39m\u001b[38;5;124mFrequency [Country]\u001b[39m\u001b[38;5;124m'\u001b[39m],palette\u001b[38;5;241m=\u001b[39m\u001b[38;5;124m\"\u001b[39m\u001b[38;5;124mrainbow\u001b[39m\u001b[38;5;124m\"\u001b[39m)\n\u001b[0;32m      5\u001b[0m sns\u001b[38;5;241m.\u001b[39mcountplot(ax\u001b[38;5;241m=\u001b[39maxes[\u001b[38;5;241m0\u001b[39m,\u001b[38;5;241m2\u001b[39m],x\u001b[38;5;241m=\u001b[39mdf_drop[\u001b[38;5;124m'\u001b[39m\u001b[38;5;124mFrequency [EDM]\u001b[39m\u001b[38;5;124m'\u001b[39m],palette\u001b[38;5;241m=\u001b[39m\u001b[38;5;124m\"\u001b[39m\u001b[38;5;124mrainbow\u001b[39m\u001b[38;5;124m\"\u001b[39m)\n",
      "File \u001b[1;32mC:\\ProgramData\\anaconda3\\Lib\\site-packages\\pandas\\core\\frame.py:4102\u001b[0m, in \u001b[0;36mDataFrame.__getitem__\u001b[1;34m(self, key)\u001b[0m\n\u001b[0;32m   4100\u001b[0m \u001b[38;5;28;01mif\u001b[39;00m \u001b[38;5;28mself\u001b[39m\u001b[38;5;241m.\u001b[39mcolumns\u001b[38;5;241m.\u001b[39mnlevels \u001b[38;5;241m>\u001b[39m \u001b[38;5;241m1\u001b[39m:\n\u001b[0;32m   4101\u001b[0m     \u001b[38;5;28;01mreturn\u001b[39;00m \u001b[38;5;28mself\u001b[39m\u001b[38;5;241m.\u001b[39m_getitem_multilevel(key)\n\u001b[1;32m-> 4102\u001b[0m indexer \u001b[38;5;241m=\u001b[39m \u001b[38;5;28mself\u001b[39m\u001b[38;5;241m.\u001b[39mcolumns\u001b[38;5;241m.\u001b[39mget_loc(key)\n\u001b[0;32m   4103\u001b[0m \u001b[38;5;28;01mif\u001b[39;00m is_integer(indexer):\n\u001b[0;32m   4104\u001b[0m     indexer \u001b[38;5;241m=\u001b[39m [indexer]\n",
      "File \u001b[1;32mC:\\ProgramData\\anaconda3\\Lib\\site-packages\\pandas\\core\\indexes\\base.py:3812\u001b[0m, in \u001b[0;36mIndex.get_loc\u001b[1;34m(self, key)\u001b[0m\n\u001b[0;32m   3807\u001b[0m     \u001b[38;5;28;01mif\u001b[39;00m \u001b[38;5;28misinstance\u001b[39m(casted_key, \u001b[38;5;28mslice\u001b[39m) \u001b[38;5;129;01mor\u001b[39;00m (\n\u001b[0;32m   3808\u001b[0m         \u001b[38;5;28misinstance\u001b[39m(casted_key, abc\u001b[38;5;241m.\u001b[39mIterable)\n\u001b[0;32m   3809\u001b[0m         \u001b[38;5;129;01mand\u001b[39;00m \u001b[38;5;28many\u001b[39m(\u001b[38;5;28misinstance\u001b[39m(x, \u001b[38;5;28mslice\u001b[39m) \u001b[38;5;28;01mfor\u001b[39;00m x \u001b[38;5;129;01min\u001b[39;00m casted_key)\n\u001b[0;32m   3810\u001b[0m     ):\n\u001b[0;32m   3811\u001b[0m         \u001b[38;5;28;01mraise\u001b[39;00m InvalidIndexError(key)\n\u001b[1;32m-> 3812\u001b[0m     \u001b[38;5;28;01mraise\u001b[39;00m \u001b[38;5;167;01mKeyError\u001b[39;00m(key) \u001b[38;5;28;01mfrom\u001b[39;00m \u001b[38;5;21;01merr\u001b[39;00m\n\u001b[0;32m   3813\u001b[0m \u001b[38;5;28;01mexcept\u001b[39;00m \u001b[38;5;167;01mTypeError\u001b[39;00m:\n\u001b[0;32m   3814\u001b[0m     \u001b[38;5;66;03m# If we have a listlike key, _check_indexing_error will raise\u001b[39;00m\n\u001b[0;32m   3815\u001b[0m     \u001b[38;5;66;03m#  InvalidIndexError. Otherwise we fall through and re-raise\u001b[39;00m\n\u001b[0;32m   3816\u001b[0m     \u001b[38;5;66;03m#  the TypeError.\u001b[39;00m\n\u001b[0;32m   3817\u001b[0m     \u001b[38;5;28mself\u001b[39m\u001b[38;5;241m.\u001b[39m_check_indexing_error(key)\n",
      "\u001b[1;31mKeyError\u001b[0m: 'Frequency [Classical]'"
     ]
    },
    {
     "data": {
      "image/png": "[encoded data removed]",
      "text/plain": [
       "<Figure size 1800x1000 with 16 Axes>"
      ]
     },
     "metadata": {},
     "output_type": "display_data"
    }
   ],
   "source": [
    "figure,axes=plt.subplots(4,4,figsize=(18,10))\n",
    "sns.countplot(ax=axes[0,0],x=df_drop['Frequency [Classical]'],palette=\"rainbow\")\n",
    "sns.countplot(ax=axes[0,1],x=df_drop['Frequency [Country]'],palette=\"rainbow\")\n",
    "\n",
    "sns.countplot(ax=axes[0,2],x=df_drop['Frequency [EDM]'],palette=\"rainbow\")\n",
    "\n",
    "sns.countplot(ax=axes[0,3],x=df_drop['Frequency [Folk]'],palette=\"rainbow\")\n",
    "\n",
    "sns.countplot(ax=axes[1,0],x=df_drop['Frequency [Gospel]'],palette=\"rainbow\")\n",
    "\n",
    "sns.countplot(ax=axes[1,1],x=df_drop['Frequency [Hip hop]'],palette=\"rainbow\")\n",
    "\n",
    "sns.countplot(ax=axes[1,2],x=df_drop['Frequency [Jazz]'],palette=\"rainbow\")\n",
    "\n",
    "sns.countplot(ax=axes[1,3],x=df_drop['Frequency [K pop]'],palette=\"rainbow\")\n",
    "\n",
    "sns.countplot(ax=axes[2,0],x=df_drop['Frequency [Latin]'],palette=\"rainbow\")\n",
    "\n",
    "sns.countplot(ax=axes[2,1],x=df_drop['Frequency [Lofi]'],palette=\"rainbow\")\n",
    "\n",
    "sns.countplot(ax=axes[2,2],x=df_drop['Frequency [Metal]'],palette=\"rainbow\")\n",
    "\n",
    "sns.countplot(ax=axes[2,3],x=df_drop['Frequency [Pop]'],palette=\"rainbow\")\n",
    "\n",
    "sns.countplot(ax=axes[3,0],x=df_drop['Frequency [R&B]'],palette=\"rainbow\")\n",
    "\n",
    "sns.countplot(ax=axes[3,1],x=df_drop['Frequency [Rap]'],palette=\"rainbow\")\n",
    "\n",
    "sns.countplot(ax=axes[3,2],x=df_drop['Frequency [Rock]'],palette=\"rainbow\")\n",
    "\n",
    "sns.countplot(ax=axes[3,3],x=df_drop['Frequency [Video game music]'],palette=\"rainbow\")\n",
    "\n",
    "\n",
    "plt.tight_layout()"
   ]
  },
  {
   "cell_type": "code",
   "execution_count": 88,
   "id": "f717e167-0002-4693-b148-73a14dd08585",
   "metadata": {},
   "outputs": [
    {
     "ename": "KeyError",
     "evalue": "'Fav genre'",
     "output_type": "error",
     "traceback": [
      "\u001b[1;31m---------------------------------------------------------------------------\u001b[0m",
      "\u001b[1;31mKeyError\u001b[0m                                  Traceback (most recent call last)",
      "File \u001b[1;32mC:\\ProgramData\\anaconda3\\Lib\\site-packages\\pandas\\core\\indexes\\base.py:3805\u001b[0m, in \u001b[0;36mIndex.get_loc\u001b[1;34m(self, key)\u001b[0m\n\u001b[0;32m   3804\u001b[0m \u001b[38;5;28;01mtry\u001b[39;00m:\n\u001b[1;32m-> 3805\u001b[0m     \u001b[38;5;28;01mreturn\u001b[39;00m \u001b[38;5;28mself\u001b[39m\u001b[38;5;241m.\u001b[39m_engine\u001b[38;5;241m.\u001b[39mget_loc(casted_key)\n\u001b[0;32m   3806\u001b[0m \u001b[38;5;28;01mexcept\u001b[39;00m \u001b[38;5;167;01mKeyError\u001b[39;00m \u001b[38;5;28;01mas\u001b[39;00m err:\n",
      "File \u001b[1;32mindex.pyx:167\u001b[0m, in \u001b[0;36mpandas._libs.index.IndexEngine.get_loc\u001b[1;34m()\u001b[0m\n",
      "File \u001b[1;32mindex.pyx:196\u001b[0m, in \u001b[0;36mpandas._libs.index.IndexEngine.get_loc\u001b[1;34m()\u001b[0m\n",
      "File \u001b[1;32mpandas\\\\_libs\\\\hashtable_class_helper.pxi:7081\u001b[0m, in \u001b[0;36mpandas._libs.hashtable.PyObjectHashTable.get_item\u001b[1;34m()\u001b[0m\n",
      "File \u001b[1;32mpandas\\\\_libs\\\\hashtable_class_helper.pxi:7089\u001b[0m, in \u001b[0;36mpandas._libs.hashtable.PyObjectHashTable.get_item\u001b[1;34m()\u001b[0m\n",
      "\u001b[1;31mKeyError\u001b[0m: 'Fav genre'",
      "\nThe above exception was the direct cause of the following exception:\n",
      "\u001b[1;31mKeyError\u001b[0m                                  Traceback (most recent call last)",
      "Cell \u001b[1;32mIn[88], line 2\u001b[0m\n\u001b[0;32m      1\u001b[0m fig\u001b[38;5;241m=\u001b[39mplt\u001b[38;5;241m.\u001b[39mfigure(figsize\u001b[38;5;241m=\u001b[39m(\u001b[38;5;241m8\u001b[39m,\u001b[38;5;241m4\u001b[39m))\n\u001b[1;32m----> 2\u001b[0m sns\u001b[38;5;241m.\u001b[39mbarplot(x\u001b[38;5;241m=\u001b[39mdf_drop[\u001b[38;5;124m'\u001b[39m\u001b[38;5;124mFav genre\u001b[39m\u001b[38;5;124m'\u001b[39m],y\u001b[38;5;241m=\u001b[39mdf_drop[\u001b[38;5;124m'\u001b[39m\u001b[38;5;124mAge\u001b[39m\u001b[38;5;124m'\u001b[39m],palette\u001b[38;5;241m=\u001b[39m\u001b[38;5;124m\"\u001b[39m\u001b[38;5;124mrainbow\u001b[39m\u001b[38;5;124m\"\u001b[39m)\n\u001b[0;32m      3\u001b[0m plt\u001b[38;5;241m.\u001b[39mxticks(rotation\u001b[38;5;241m=\u001b[39m\u001b[38;5;241m75\u001b[39m)\n\u001b[0;32m      4\u001b[0m plt\u001b[38;5;241m.\u001b[39mshow()\n",
      "File \u001b[1;32mC:\\ProgramData\\anaconda3\\Lib\\site-packages\\pandas\\core\\frame.py:4102\u001b[0m, in \u001b[0;36mDataFrame.__getitem__\u001b[1;34m(self, key)\u001b[0m\n\u001b[0;32m   4100\u001b[0m \u001b[38;5;28;01mif\u001b[39;00m \u001b[38;5;28mself\u001b[39m\u001b[38;5;241m.\u001b[39mcolumns\u001b[38;5;241m.\u001b[39mnlevels \u001b[38;5;241m>\u001b[39m \u001b[38;5;241m1\u001b[39m:\n\u001b[0;32m   4101\u001b[0m     \u001b[38;5;28;01mreturn\u001b[39;00m \u001b[38;5;28mself\u001b[39m\u001b[38;5;241m.\u001b[39m_getitem_multilevel(key)\n\u001b[1;32m-> 4102\u001b[0m indexer \u001b[38;5;241m=\u001b[39m \u001b[38;5;28mself\u001b[39m\u001b[38;5;241m.\u001b[39mcolumns\u001b[38;5;241m.\u001b[39mget_loc(key)\n\u001b[0;32m   4103\u001b[0m \u001b[38;5;28;01mif\u001b[39;00m is_integer(indexer):\n\u001b[0;32m   4104\u001b[0m     indexer \u001b[38;5;241m=\u001b[39m [indexer]\n",
      "File \u001b[1;32mC:\\ProgramData\\anaconda3\\Lib\\site-packages\\pandas\\core\\indexes\\base.py:3812\u001b[0m, in \u001b[0;36mIndex.get_loc\u001b[1;34m(self, key)\u001b[0m\n\u001b[0;32m   3807\u001b[0m     \u001b[38;5;28;01mif\u001b[39;00m \u001b[38;5;28misinstance\u001b[39m(casted_key, \u001b[38;5;28mslice\u001b[39m) \u001b[38;5;129;01mor\u001b[39;00m (\n\u001b[0;32m   3808\u001b[0m         \u001b[38;5;28misinstance\u001b[39m(casted_key, abc\u001b[38;5;241m.\u001b[39mIterable)\n\u001b[0;32m   3809\u001b[0m         \u001b[38;5;129;01mand\u001b[39;00m \u001b[38;5;28many\u001b[39m(\u001b[38;5;28misinstance\u001b[39m(x, \u001b[38;5;28mslice\u001b[39m) \u001b[38;5;28;01mfor\u001b[39;00m x \u001b[38;5;129;01min\u001b[39;00m casted_key)\n\u001b[0;32m   3810\u001b[0m     ):\n\u001b[0;32m   3811\u001b[0m         \u001b[38;5;28;01mraise\u001b[39;00m InvalidIndexError(key)\n\u001b[1;32m-> 3812\u001b[0m     \u001b[38;5;28;01mraise\u001b[39;00m \u001b[38;5;167;01mKeyError\u001b[39;00m(key) \u001b[38;5;28;01mfrom\u001b[39;00m \u001b[38;5;21;01merr\u001b[39;00m\n\u001b[0;32m   3813\u001b[0m \u001b[38;5;28;01mexcept\u001b[39;00m \u001b[38;5;167;01mTypeError\u001b[39;00m:\n\u001b[0;32m   3814\u001b[0m     \u001b[38;5;66;03m# If we have a listlike key, _check_indexing_error will raise\u001b[39;00m\n\u001b[0;32m   3815\u001b[0m     \u001b[38;5;66;03m#  InvalidIndexError. Otherwise we fall through and re-raise\u001b[39;00m\n\u001b[0;32m   3816\u001b[0m     \u001b[38;5;66;03m#  the TypeError.\u001b[39;00m\n\u001b[0;32m   3817\u001b[0m     \u001b[38;5;28mself\u001b[39m\u001b[38;5;241m.\u001b[39m_check_indexing_error(key)\n",
      "\u001b[1;31mKeyError\u001b[0m: 'Fav genre'"
     ]
    },
    {
     "data": {
      "text/plain": [
       "<Figure size 800x400 with 0 Axes>"
      ]
     },
     "metadata": {},
     "output_type": "display_data"
    }
   ],
   "source": [
    "fig=plt.figure(figsize=(8,4))\n",
    "sns.barplot(x=df_drop['Fav genre'],y=df_drop['Age'],palette=\"rainbow\")\n",
    "plt.xticks(rotation=75)\n",
    "plt.show()"
   ]
  },
  {
   "cell_type": "code",
   "execution_count": 90,
   "id": "aba80ce8-7eff-43ac-af81-36ebb7514cdb",
   "metadata": {},
   "outputs": [
    {
     "ename": "KeyError",
     "evalue": "'Fav genre'",
     "output_type": "error",
     "traceback": [
      "\u001b[1;31m---------------------------------------------------------------------------\u001b[0m",
      "\u001b[1;31mKeyError\u001b[0m                                  Traceback (most recent call last)",
      "File \u001b[1;32mC:\\ProgramData\\anaconda3\\Lib\\site-packages\\pandas\\core\\indexes\\base.py:3805\u001b[0m, in \u001b[0;36mIndex.get_loc\u001b[1;34m(self, key)\u001b[0m\n\u001b[0;32m   3804\u001b[0m \u001b[38;5;28;01mtry\u001b[39;00m:\n\u001b[1;32m-> 3805\u001b[0m     \u001b[38;5;28;01mreturn\u001b[39;00m \u001b[38;5;28mself\u001b[39m\u001b[38;5;241m.\u001b[39m_engine\u001b[38;5;241m.\u001b[39mget_loc(casted_key)\n\u001b[0;32m   3806\u001b[0m \u001b[38;5;28;01mexcept\u001b[39;00m \u001b[38;5;167;01mKeyError\u001b[39;00m \u001b[38;5;28;01mas\u001b[39;00m err:\n",
      "File \u001b[1;32mindex.pyx:167\u001b[0m, in \u001b[0;36mpandas._libs.index.IndexEngine.get_loc\u001b[1;34m()\u001b[0m\n",
      "File \u001b[1;32mindex.pyx:196\u001b[0m, in \u001b[0;36mpandas._libs.index.IndexEngine.get_loc\u001b[1;34m()\u001b[0m\n",
      "File \u001b[1;32mpandas\\\\_libs\\\\hashtable_class_helper.pxi:7081\u001b[0m, in \u001b[0;36mpandas._libs.hashtable.PyObjectHashTable.get_item\u001b[1;34m()\u001b[0m\n",
      "File \u001b[1;32mpandas\\\\_libs\\\\hashtable_class_helper.pxi:7089\u001b[0m, in \u001b[0;36mpandas._libs.hashtable.PyObjectHashTable.get_item\u001b[1;34m()\u001b[0m\n",
      "\u001b[1;31mKeyError\u001b[0m: 'Fav genre'",
      "\nThe above exception was the direct cause of the following exception:\n",
      "\u001b[1;31mKeyError\u001b[0m                                  Traceback (most recent call last)",
      "Cell \u001b[1;32mIn[90], line 2\u001b[0m\n\u001b[0;32m      1\u001b[0m figure,axes\u001b[38;5;241m=\u001b[39mplt\u001b[38;5;241m.\u001b[39msubplots(\u001b[38;5;241m2\u001b[39m,\u001b[38;5;241m2\u001b[39m,figsize\u001b[38;5;241m=\u001b[39m(\u001b[38;5;241m18\u001b[39m,\u001b[38;5;241m10\u001b[39m))\n\u001b[1;32m----> 2\u001b[0m sns\u001b[38;5;241m.\u001b[39mlineplot(ax\u001b[38;5;241m=\u001b[39maxes[\u001b[38;5;241m0\u001b[39m,\u001b[38;5;241m0\u001b[39m],x\u001b[38;5;241m=\u001b[39mdf_drop[\u001b[38;5;124m'\u001b[39m\u001b[38;5;124mFav genre\u001b[39m\u001b[38;5;124m'\u001b[39m],y\u001b[38;5;241m=\u001b[39mdf_drop[\u001b[38;5;124m'\u001b[39m\u001b[38;5;124mInsomnia\u001b[39m\u001b[38;5;124m'\u001b[39m],ci\u001b[38;5;241m=\u001b[39m\u001b[38;5;28;01mNone\u001b[39;00m)\n\u001b[0;32m      3\u001b[0m sns\u001b[38;5;241m.\u001b[39mlineplot(ax\u001b[38;5;241m=\u001b[39maxes[\u001b[38;5;241m0\u001b[39m,\u001b[38;5;241m1\u001b[39m],x\u001b[38;5;241m=\u001b[39mdf_drop[\u001b[38;5;124m'\u001b[39m\u001b[38;5;124mFav genre\u001b[39m\u001b[38;5;124m'\u001b[39m],y\u001b[38;5;241m=\u001b[39mdf_drop[\u001b[38;5;124m'\u001b[39m\u001b[38;5;124mOCD\u001b[39m\u001b[38;5;124m'\u001b[39m],ci\u001b[38;5;241m=\u001b[39m\u001b[38;5;28;01mNone\u001b[39;00m)\n\u001b[0;32m      4\u001b[0m sns\u001b[38;5;241m.\u001b[39mlineplot(ax\u001b[38;5;241m=\u001b[39maxes[\u001b[38;5;241m1\u001b[39m,\u001b[38;5;241m0\u001b[39m],x\u001b[38;5;241m=\u001b[39mdf_drop[\u001b[38;5;124m'\u001b[39m\u001b[38;5;124mFav genre\u001b[39m\u001b[38;5;124m'\u001b[39m],y\u001b[38;5;241m=\u001b[39mdf_drop[\u001b[38;5;124m'\u001b[39m\u001b[38;5;124mDepression\u001b[39m\u001b[38;5;124m'\u001b[39m],ci\u001b[38;5;241m=\u001b[39m\u001b[38;5;28;01mNone\u001b[39;00m)\n",
      "File \u001b[1;32mC:\\ProgramData\\anaconda3\\Lib\\site-packages\\pandas\\core\\frame.py:4102\u001b[0m, in \u001b[0;36mDataFrame.__getitem__\u001b[1;34m(self, key)\u001b[0m\n\u001b[0;32m   4100\u001b[0m \u001b[38;5;28;01mif\u001b[39;00m \u001b[38;5;28mself\u001b[39m\u001b[38;5;241m.\u001b[39mcolumns\u001b[38;5;241m.\u001b[39mnlevels \u001b[38;5;241m>\u001b[39m \u001b[38;5;241m1\u001b[39m:\n\u001b[0;32m   4101\u001b[0m     \u001b[38;5;28;01mreturn\u001b[39;00m \u001b[38;5;28mself\u001b[39m\u001b[38;5;241m.\u001b[39m_getitem_multilevel(key)\n\u001b[1;32m-> 4102\u001b[0m indexer \u001b[38;5;241m=\u001b[39m \u001b[38;5;28mself\u001b[39m\u001b[38;5;241m.\u001b[39mcolumns\u001b[38;5;241m.\u001b[39mget_loc(key)\n\u001b[0;32m   4103\u001b[0m \u001b[38;5;28;01mif\u001b[39;00m is_integer(indexer):\n\u001b[0;32m   4104\u001b[0m     indexer \u001b[38;5;241m=\u001b[39m [indexer]\n",
      "File \u001b[1;32mC:\\ProgramData\\anaconda3\\Lib\\site-packages\\pandas\\core\\indexes\\base.py:3812\u001b[0m, in \u001b[0;36mIndex.get_loc\u001b[1;34m(self, key)\u001b[0m\n\u001b[0;32m   3807\u001b[0m     \u001b[38;5;28;01mif\u001b[39;00m \u001b[38;5;28misinstance\u001b[39m(casted_key, \u001b[38;5;28mslice\u001b[39m) \u001b[38;5;129;01mor\u001b[39;00m (\n\u001b[0;32m   3808\u001b[0m         \u001b[38;5;28misinstance\u001b[39m(casted_key, abc\u001b[38;5;241m.\u001b[39mIterable)\n\u001b[0;32m   3809\u001b[0m         \u001b[38;5;129;01mand\u001b[39;00m \u001b[38;5;28many\u001b[39m(\u001b[38;5;28misinstance\u001b[39m(x, \u001b[38;5;28mslice\u001b[39m) \u001b[38;5;28;01mfor\u001b[39;00m x \u001b[38;5;129;01min\u001b[39;00m casted_key)\n\u001b[0;32m   3810\u001b[0m     ):\n\u001b[0;32m   3811\u001b[0m         \u001b[38;5;28;01mraise\u001b[39;00m InvalidIndexError(key)\n\u001b[1;32m-> 3812\u001b[0m     \u001b[38;5;28;01mraise\u001b[39;00m \u001b[38;5;167;01mKeyError\u001b[39;00m(key) \u001b[38;5;28;01mfrom\u001b[39;00m \u001b[38;5;21;01merr\u001b[39;00m\n\u001b[0;32m   3813\u001b[0m \u001b[38;5;28;01mexcept\u001b[39;00m \u001b[38;5;167;01mTypeError\u001b[39;00m:\n\u001b[0;32m   3814\u001b[0m     \u001b[38;5;66;03m# If we have a listlike key, _check_indexing_error will raise\u001b[39;00m\n\u001b[0;32m   3815\u001b[0m     \u001b[38;5;66;03m#  InvalidIndexError. Otherwise we fall through and re-raise\u001b[39;00m\n\u001b[0;32m   3816\u001b[0m     \u001b[38;5;66;03m#  the TypeError.\u001b[39;00m\n\u001b[0;32m   3817\u001b[0m     \u001b[38;5;28mself\u001b[39m\u001b[38;5;241m.\u001b[39m_check_indexing_error(key)\n",
      "\u001b[1;31mKeyError\u001b[0m: 'Fav genre'"
     ]
    },
    {
     "data": {
      "image/png": "[encoded data removed]",
      "text/plain": [
       "<Figure size 1800x1000 with 4 Axes>"
      ]
     },
     "metadata": {},
     "output_type": "display_data"
    }
   ],
   "source": [
    "figure,axes=plt.subplots(2,2,figsize=(18,10))\n",
    "sns.lineplot(ax=axes[0,0],x=df_drop['Fav genre'],y=df_drop['Insomnia'],ci=None)\n",
    "sns.lineplot(ax=axes[0,1],x=df_drop['Fav genre'],y=df_drop['OCD'],ci=None)\n",
    "sns.lineplot(ax=axes[1,0],x=df_drop['Fav genre'],y=df_drop['Depression'],ci=None)\n",
    "sns.lineplot(ax=axes[1,1],x=df_drop['Fav genre'],y=df_drop['Anxiety'],ci=None)\n",
    "plt.tight_layout()\n",
    "plt.show()"
   ]
  },
  {
   "cell_type": "code",
   "execution_count": 92,
   "id": "10361c20-c250-40fd-bff9-08c75db42caa",
   "metadata": {},
   "outputs": [
    {
     "ename": "KeyError",
     "evalue": "'Fav genre'",
     "output_type": "error",
     "traceback": [
      "\u001b[1;31m---------------------------------------------------------------------------\u001b[0m",
      "\u001b[1;31mKeyError\u001b[0m                                  Traceback (most recent call last)",
      "File \u001b[1;32mC:\\ProgramData\\anaconda3\\Lib\\site-packages\\pandas\\core\\indexes\\base.py:3805\u001b[0m, in \u001b[0;36mIndex.get_loc\u001b[1;34m(self, key)\u001b[0m\n\u001b[0;32m   3804\u001b[0m \u001b[38;5;28;01mtry\u001b[39;00m:\n\u001b[1;32m-> 3805\u001b[0m     \u001b[38;5;28;01mreturn\u001b[39;00m \u001b[38;5;28mself\u001b[39m\u001b[38;5;241m.\u001b[39m_engine\u001b[38;5;241m.\u001b[39mget_loc(casted_key)\n\u001b[0;32m   3806\u001b[0m \u001b[38;5;28;01mexcept\u001b[39;00m \u001b[38;5;167;01mKeyError\u001b[39;00m \u001b[38;5;28;01mas\u001b[39;00m err:\n",
      "File \u001b[1;32mindex.pyx:167\u001b[0m, in \u001b[0;36mpandas._libs.index.IndexEngine.get_loc\u001b[1;34m()\u001b[0m\n",
      "File \u001b[1;32mindex.pyx:196\u001b[0m, in \u001b[0;36mpandas._libs.index.IndexEngine.get_loc\u001b[1;34m()\u001b[0m\n",
      "File \u001b[1;32mpandas\\\\_libs\\\\hashtable_class_helper.pxi:7081\u001b[0m, in \u001b[0;36mpandas._libs.hashtable.PyObjectHashTable.get_item\u001b[1;34m()\u001b[0m\n",
      "File \u001b[1;32mpandas\\\\_libs\\\\hashtable_class_helper.pxi:7089\u001b[0m, in \u001b[0;36mpandas._libs.hashtable.PyObjectHashTable.get_item\u001b[1;34m()\u001b[0m\n",
      "\u001b[1;31mKeyError\u001b[0m: 'Fav genre'",
      "\nThe above exception was the direct cause of the following exception:\n",
      "\u001b[1;31mKeyError\u001b[0m                                  Traceback (most recent call last)",
      "Cell \u001b[1;32mIn[92], line 2\u001b[0m\n\u001b[0;32m      1\u001b[0m figure,axes\u001b[38;5;241m=\u001b[39mplt\u001b[38;5;241m.\u001b[39msubplots(\u001b[38;5;241m3\u001b[39m,\u001b[38;5;241m2\u001b[39m,figsize\u001b[38;5;241m=\u001b[39m(\u001b[38;5;241m18\u001b[39m,\u001b[38;5;241m10\u001b[39m))\n\u001b[1;32m----> 2\u001b[0m sns\u001b[38;5;241m.\u001b[39mbarplot(ax\u001b[38;5;241m=\u001b[39maxes[\u001b[38;5;241m0\u001b[39m,\u001b[38;5;241m0\u001b[39m],x\u001b[38;5;241m=\u001b[39mdf_drop[\u001b[38;5;124m'\u001b[39m\u001b[38;5;124mFav genre\u001b[39m\u001b[38;5;124m'\u001b[39m],y\u001b[38;5;241m=\u001b[39mdf_drop[\u001b[38;5;124m'\u001b[39m\u001b[38;5;124mAge\u001b[39m\u001b[38;5;124m'\u001b[39m],hue\u001b[38;5;241m=\u001b[39mdf_drop[\u001b[38;5;124m'\u001b[39m\u001b[38;5;124mMusic effects\u001b[39m\u001b[38;5;124m'\u001b[39m],palette\u001b[38;5;241m=\u001b[39m\u001b[38;5;124m\"\u001b[39m\u001b[38;5;124mrainbow\u001b[39m\u001b[38;5;124m\"\u001b[39m)\n\u001b[0;32m      3\u001b[0m sns\u001b[38;5;241m.\u001b[39mbarplot(ax\u001b[38;5;241m=\u001b[39maxes[\u001b[38;5;241m0\u001b[39m,\u001b[38;5;241m1\u001b[39m],x\u001b[38;5;241m=\u001b[39mdf_drop[\u001b[38;5;124m'\u001b[39m\u001b[38;5;124mFav genre\u001b[39m\u001b[38;5;124m'\u001b[39m],y\u001b[38;5;241m=\u001b[39mdf_drop[\u001b[38;5;124m'\u001b[39m\u001b[38;5;124mHours per day\u001b[39m\u001b[38;5;124m'\u001b[39m],hue\u001b[38;5;241m=\u001b[39mdf_drop[\u001b[38;5;124m'\u001b[39m\u001b[38;5;124mMusic effects\u001b[39m\u001b[38;5;124m'\u001b[39m],palette\u001b[38;5;241m=\u001b[39m\u001b[38;5;124m\"\u001b[39m\u001b[38;5;124mrainbow\u001b[39m\u001b[38;5;124m\"\u001b[39m)\n\u001b[0;32m      4\u001b[0m sns\u001b[38;5;241m.\u001b[39mbarplot(ax\u001b[38;5;241m=\u001b[39maxes[\u001b[38;5;241m1\u001b[39m,\u001b[38;5;241m0\u001b[39m],x\u001b[38;5;241m=\u001b[39mdf_drop[\u001b[38;5;124m'\u001b[39m\u001b[38;5;124mFav genre\u001b[39m\u001b[38;5;124m'\u001b[39m],y\u001b[38;5;241m=\u001b[39mdf_drop[\u001b[38;5;124m'\u001b[39m\u001b[38;5;124mInsomnia\u001b[39m\u001b[38;5;124m'\u001b[39m],hue\u001b[38;5;241m=\u001b[39mdf_drop[\u001b[38;5;124m'\u001b[39m\u001b[38;5;124mMusic effects\u001b[39m\u001b[38;5;124m'\u001b[39m],palette\u001b[38;5;241m=\u001b[39m\u001b[38;5;124m\"\u001b[39m\u001b[38;5;124mrainbow\u001b[39m\u001b[38;5;124m\"\u001b[39m)\n",
      "File \u001b[1;32mC:\\ProgramData\\anaconda3\\Lib\\site-packages\\pandas\\core\\frame.py:4102\u001b[0m, in \u001b[0;36mDataFrame.__getitem__\u001b[1;34m(self, key)\u001b[0m\n\u001b[0;32m   4100\u001b[0m \u001b[38;5;28;01mif\u001b[39;00m \u001b[38;5;28mself\u001b[39m\u001b[38;5;241m.\u001b[39mcolumns\u001b[38;5;241m.\u001b[39mnlevels \u001b[38;5;241m>\u001b[39m \u001b[38;5;241m1\u001b[39m:\n\u001b[0;32m   4101\u001b[0m     \u001b[38;5;28;01mreturn\u001b[39;00m \u001b[38;5;28mself\u001b[39m\u001b[38;5;241m.\u001b[39m_getitem_multilevel(key)\n\u001b[1;32m-> 4102\u001b[0m indexer \u001b[38;5;241m=\u001b[39m \u001b[38;5;28mself\u001b[39m\u001b[38;5;241m.\u001b[39mcolumns\u001b[38;5;241m.\u001b[39mget_loc(key)\n\u001b[0;32m   4103\u001b[0m \u001b[38;5;28;01mif\u001b[39;00m is_integer(indexer):\n\u001b[0;32m   4104\u001b[0m     indexer \u001b[38;5;241m=\u001b[39m [indexer]\n",
      "File \u001b[1;32mC:\\ProgramData\\anaconda3\\Lib\\site-packages\\pandas\\core\\indexes\\base.py:3812\u001b[0m, in \u001b[0;36mIndex.get_loc\u001b[1;34m(self, key)\u001b[0m\n\u001b[0;32m   3807\u001b[0m     \u001b[38;5;28;01mif\u001b[39;00m \u001b[38;5;28misinstance\u001b[39m(casted_key, \u001b[38;5;28mslice\u001b[39m) \u001b[38;5;129;01mor\u001b[39;00m (\n\u001b[0;32m   3808\u001b[0m         \u001b[38;5;28misinstance\u001b[39m(casted_key, abc\u001b[38;5;241m.\u001b[39mIterable)\n\u001b[0;32m   3809\u001b[0m         \u001b[38;5;129;01mand\u001b[39;00m \u001b[38;5;28many\u001b[39m(\u001b[38;5;28misinstance\u001b[39m(x, \u001b[38;5;28mslice\u001b[39m) \u001b[38;5;28;01mfor\u001b[39;00m x \u001b[38;5;129;01min\u001b[39;00m casted_key)\n\u001b[0;32m   3810\u001b[0m     ):\n\u001b[0;32m   3811\u001b[0m         \u001b[38;5;28;01mraise\u001b[39;00m InvalidIndexError(key)\n\u001b[1;32m-> 3812\u001b[0m     \u001b[38;5;28;01mraise\u001b[39;00m \u001b[38;5;167;01mKeyError\u001b[39;00m(key) \u001b[38;5;28;01mfrom\u001b[39;00m \u001b[38;5;21;01merr\u001b[39;00m\n\u001b[0;32m   3813\u001b[0m \u001b[38;5;28;01mexcept\u001b[39;00m \u001b[38;5;167;01mTypeError\u001b[39;00m:\n\u001b[0;32m   3814\u001b[0m     \u001b[38;5;66;03m# If we have a listlike key, _check_indexing_error will raise\u001b[39;00m\n\u001b[0;32m   3815\u001b[0m     \u001b[38;5;66;03m#  InvalidIndexError. Otherwise we fall through and re-raise\u001b[39;00m\n\u001b[0;32m   3816\u001b[0m     \u001b[38;5;66;03m#  the TypeError.\u001b[39;00m\n\u001b[0;32m   3817\u001b[0m     \u001b[38;5;28mself\u001b[39m\u001b[38;5;241m.\u001b[39m_check_indexing_error(key)\n",
      "\u001b[1;31mKeyError\u001b[0m: 'Fav genre'"
     ]
    },
    {
     "data": {
      "image/png": "[encoded data removed]",
      "text/plain": [
       "<Figure size 1800x1000 with 6 Axes>"
      ]
     },
     "metadata": {},
     "output_type": "display_data"
    }
   ],
   "source": [
    "figure,axes=plt.subplots(3,2,figsize=(18,10))\n",
    "sns.barplot(ax=axes[0,0],x=df_drop['Fav genre'],y=df_drop['Age'],hue=df_drop['Music effects'],palette=\"rainbow\")\n",
    "sns.barplot(ax=axes[0,1],x=df_drop['Fav genre'],y=df_drop['Hours per day'],hue=df_drop['Music effects'],palette=\"rainbow\")\n",
    "sns.barplot(ax=axes[1,0],x=df_drop['Fav genre'],y=df_drop['Insomnia'],hue=df_drop['Music effects'],palette=\"rainbow\")\n",
    "sns.barplot(ax=axes[1,1],x=df_drop['Fav genre'],y=df_drop['OCD'],hue=df_drop['Music effects'],palette=\"rainbow\")\n",
    "sns.barplot(ax=axes[2,0],x=df_drop['Fav genre'],y=df_drop['Depression'],hue=df_drop['Music effects'],palette=\"rainbow\")\n",
    "sns.barplot(ax=axes[2,1],x=df_drop['Fav genre'],y=df_drop['Anxiety'],hue=df_drop['Music effects'],palette=\"rainbow\")\n",
    "plt.tight_layout()\n",
    "plt.show()"
   ]
  },
  {
   "cell_type": "code",
   "execution_count": null,
   "id": "dcd0e761-2a52-474c-9b60-9e0b826f70bd",
   "metadata": {},
   "outputs": [],
   "source": []
  }
 ],
 "metadata": {
  "kernelspec": {
   "display_name": "Python 3 (ipykernel)",
   "language": "python",
   "name": "python3"
  },
  "language_info": {
   "codemirror_mode": {
    "name": "ipython",
    "version": 3
   },
   "file_extension": ".py",
   "mimetype": "text/x-python",
   "name": "python",
   "nbconvert_exporter": "python",
   "pygments_lexer": "ipython3",
   "version": "3.12.7"
  }
 },
 "nbformat": 4,
 "nbformat_minor": 5
}
